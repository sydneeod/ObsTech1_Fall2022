{
 "cells": [
  {
   "cell_type": "markdown",
   "metadata": {},
   "source": [
    "# Euler's Identity Derivation\n",
    "\n",
    "$e^{ix} = cosx + isinx$\n",
    "\n",
    "The power expansion series of $e^{z}$ is\n",
    "$e^{z} = 1 + \\frac{z}{1!} + \\frac{z^{2}}{2!} + \\frac{z^{3}}{3!} + ...$\n",
    "\n",
    "Where the complex number i \n",
    "\n",
    "$ i^{0} = 1$\n",
    "\n",
    "$i^{1} = i$\n",
    "\n",
    "$i^{2} = -1$\n",
    "\n",
    "$i^{3} = -i$\n",
    "\n",
    "$ e^{ix} +1 = 0 $"
   ]
  },
  {
   "cell_type": "markdown",
   "metadata": {},
   "source": [
    "If $z = ix$ the series expands to \n",
    "\n",
    "$e^{ix} = 1 + ix + \\frac{(ix)^{2}}{2!} + \\frac{(ix)^{3}}{3!}  + ...$\n",
    "\n",
    "Which simpilfies to\n",
    "\n",
    "$e^{ix} = 1 + ix - \\frac{x^{2}}{2!} + \\frac{ix^{3}}{3!}  + ...$"
   ]
  },
  {
   "cell_type": "markdown",
   "metadata": {},
   "source": [
    "We know that the power expansion $e^{z}$ is absolutely convergent, so we can rearrange the terms and not worry about altering the value. Below we group the real and imaginary terms separatly "
   ]
  },
  {
   "cell_type": "markdown",
   "metadata": {},
   "source": [
    "$e^{ix} = (1- \\frac{x^{2}}{2!} + \\frac{x^{4}}{4!} - \\frac{x^{6}}{6!} + ...) + i(x - \\frac{x^{3}}{3!} + \\frac{x^{5}}{5!} - \\frac{x^{7}}{7!} + ...$"
   ]
  },
  {
   "cell_type": "markdown",
   "metadata": {},
   "source": [
    "We also know that the power series of sine and cosine are \n",
    "\n",
    "$ cosx = 1- \\frac{x^{2}}{2!} + \\frac{x^{4}}{4!} - \\frac{x^{6}}{6!} + ...$\n",
    "\n",
    "and\n",
    "\n",
    "$ sinx = x - \\frac{x^{3}}{3!} + \\frac{x^{5}}{5!} - \\frac{x^{7}}{7!} + ...$"
   ]
  },
  {
   "cell_type": "markdown",
   "metadata": {},
   "source": [
    "Therefore, $e^{ix} = cosx + isinx$"
   ]
  },
  {
   "cell_type": "code",
   "execution_count": null,
   "metadata": {},
   "outputs": [],
   "source": []
  }
 ],
 "metadata": {
  "kernelspec": {
   "display_name": "Python 3",
   "language": "python",
   "name": "python3"
  },
  "language_info": {
   "codemirror_mode": {
    "name": "ipython",
    "version": 3
   },
   "file_extension": ".py",
   "mimetype": "text/x-python",
   "name": "python",
   "nbconvert_exporter": "python",
   "pygments_lexer": "ipython3",
   "version": "3.8.5"
  }
 },
 "nbformat": 4,
 "nbformat_minor": 4
}
