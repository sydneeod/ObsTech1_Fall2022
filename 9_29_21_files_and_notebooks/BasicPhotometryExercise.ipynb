{
 "cells": [
  {
   "cell_type": "markdown",
   "metadata": {},
   "source": [
    "# Photometry of processed CCD images\n",
    "\n",
    "In this notebook, we'll go over how to measure the amount of light we received from a star.\n",
    "\n",
    "Measuring the amount of received light is known as _photometry_."
   ]
  },
  {
   "cell_type": "markdown",
   "metadata": {},
   "source": [
    "Learning goals are:\n",
    " \n",
    "  * Learn to measure a star's light from a CCD image\n",
    "  * Gain further insight into uncertainty and error propagation\n",
    "  "
   ]
  },
  {
   "cell_type": "markdown",
   "metadata": {},
   "source": [
    "# Index\n",
    "* [Q1 - Uncertainty on Sky Backgroud](#Q1)\n",
    "* [Q2 - What is the color of the sky?](#Q2)\n",
    "* [Q3 - magnitude error](#Q3)\n",
    "* [Q4 - relative error contributions](#Q4)\n",
    "* [Optimizing Our Measurement](#Optimizing-our-Measurement)\n",
    "* [Systematic Errors](#Systematic-Errors)\n",
    "* [Masked SNR](#Masked-SNR)\n",
    "* [Multi-star](#Photometry---not-just-single-star!)\n",
    "* [EXERCISE - DIY](#Exercise:-Obtain-flux-measurements-for-two-more-stars)\n",
    "* [Functions](#Programming-more-efficiently)\n",
    "* [EXERCISE - use the functions](#Exercise:-Use-the-function-to-repeat-the-exercise-on-another-two-stars)"
   ]
  },
  {
   "cell_type": "code",
   "execution_count": 1,
   "metadata": {},
   "outputs": [],
   "source": [
    "%matplotlib inline"
   ]
  },
  {
   "cell_type": "code",
   "execution_count": 2,
   "metadata": {},
   "outputs": [],
   "source": [
    "import numpy as np\n",
    "import pylab as pl\n",
    "pl.rcParams['image.origin'] = 'lower' # make images display right-side-up\n",
    "pl.style.use('dark_background')"
   ]
  },
  {
   "cell_type": "markdown",
   "metadata": {},
   "source": [
    "## Step 1: Load the data\n",
    "\n",
    "We want to perform photometry on _reduced_, fully-processed data.  We'll start by loading up the data we processed as part of the single-frame reduction exercise."
   ]
  },
  {
   "cell_type": "code",
   "execution_count": 3,
   "metadata": {},
   "outputs": [],
   "source": [
    "from astropy.io import fits\n",
    "import os"
   ]
  },
  {
   "cell_type": "code",
   "execution_count": 4,
   "metadata": {},
   "outputs": [],
   "source": [
    "# on my computer, the data are in a subdirectory called 'data/', so I chdir there\n",
    "os.chdir(\"\\\\Users\\\\Sydnee O'Donnell\\\\OneDrive\\\\UF\\\\Obs Tech 1\\\\AST3722-Fall-2021-09-29-21\")"
   ]
  },
  {
   "cell_type": "code",
   "execution_count": 5,
   "metadata": {},
   "outputs": [
    {
     "ename": "FileNotFoundError",
     "evalue": "[Errno 2] No such file or directory: 'pleiades_30s_C_other_001_darksub_flattened.fits'",
     "output_type": "error",
     "traceback": [
      "\u001b[1;31m---------------------------------------------------------------------------\u001b[0m",
      "\u001b[1;31mFileNotFoundError\u001b[0m                         Traceback (most recent call last)",
      "\u001b[1;32m<ipython-input-5-62959554225d>\u001b[0m in \u001b[0;36m<module>\u001b[1;34m\u001b[0m\n\u001b[1;32m----> 1\u001b[1;33m \u001b[0mpleiades_clear_darksub_flattened\u001b[0m \u001b[1;33m=\u001b[0m \u001b[0mfits\u001b[0m\u001b[1;33m.\u001b[0m\u001b[0mgetdata\u001b[0m\u001b[1;33m(\u001b[0m\u001b[1;34m'pleiades_30s_C_other_001_darksub_flattened.fits'\u001b[0m\u001b[1;33m)\u001b[0m\u001b[1;33m\u001b[0m\u001b[1;33m\u001b[0m\u001b[0m\n\u001b[0m\u001b[0;32m      2\u001b[0m \u001b[0mpleiades_clear_darksub_flattened_uncertainty\u001b[0m \u001b[1;33m=\u001b[0m \u001b[0mfits\u001b[0m\u001b[1;33m.\u001b[0m\u001b[0mgetdata\u001b[0m\u001b[1;33m(\u001b[0m\u001b[1;34m'pleiades_30s_C_other_001_darksub_flattened_uncertainty.fits'\u001b[0m\u001b[1;33m)\u001b[0m\u001b[1;33m\u001b[0m\u001b[1;33m\u001b[0m\u001b[0m\n",
      "\u001b[1;32m~\\AppData\\Roaming\\Python\\Python38\\site-packages\\astropy\\io\\fits\\convenience.py\u001b[0m in \u001b[0;36mgetdata\u001b[1;34m(filename, header, lower, upper, view, *args, **kwargs)\u001b[0m\n\u001b[0;32m    207\u001b[0m                      extname is None and extver is None)\n\u001b[0;32m    208\u001b[0m \u001b[1;33m\u001b[0m\u001b[0m\n\u001b[1;32m--> 209\u001b[1;33m     \u001b[0mhdulist\u001b[0m\u001b[1;33m,\u001b[0m \u001b[0mextidx\u001b[0m \u001b[1;33m=\u001b[0m \u001b[0m_getext\u001b[0m\u001b[1;33m(\u001b[0m\u001b[0mfilename\u001b[0m\u001b[1;33m,\u001b[0m \u001b[0mmode\u001b[0m\u001b[1;33m,\u001b[0m \u001b[1;33m*\u001b[0m\u001b[0margs\u001b[0m\u001b[1;33m,\u001b[0m \u001b[1;33m**\u001b[0m\u001b[0mkwargs\u001b[0m\u001b[1;33m)\u001b[0m\u001b[1;33m\u001b[0m\u001b[1;33m\u001b[0m\u001b[0m\n\u001b[0m\u001b[0;32m    210\u001b[0m     \u001b[1;32mtry\u001b[0m\u001b[1;33m:\u001b[0m\u001b[1;33m\u001b[0m\u001b[1;33m\u001b[0m\u001b[0m\n\u001b[0;32m    211\u001b[0m         \u001b[0mhdu\u001b[0m \u001b[1;33m=\u001b[0m \u001b[0mhdulist\u001b[0m\u001b[1;33m[\u001b[0m\u001b[0mextidx\u001b[0m\u001b[1;33m]\u001b[0m\u001b[1;33m\u001b[0m\u001b[1;33m\u001b[0m\u001b[0m\n",
      "\u001b[1;32m~\\AppData\\Roaming\\Python\\Python38\\site-packages\\astropy\\io\\fits\\convenience.py\u001b[0m in \u001b[0;36m_getext\u001b[1;34m(filename, mode, ext, extname, extver, *args, **kwargs)\u001b[0m\n\u001b[0;32m   1088\u001b[0m         \u001b[1;32mraise\u001b[0m \u001b[0mTypeError\u001b[0m\u001b[1;33m(\u001b[0m\u001b[1;34m'extver alone cannot specify an extension.'\u001b[0m\u001b[1;33m)\u001b[0m\u001b[1;33m\u001b[0m\u001b[1;33m\u001b[0m\u001b[0m\n\u001b[0;32m   1089\u001b[0m \u001b[1;33m\u001b[0m\u001b[0m\n\u001b[1;32m-> 1090\u001b[1;33m     \u001b[0mhdulist\u001b[0m \u001b[1;33m=\u001b[0m \u001b[0mfitsopen\u001b[0m\u001b[1;33m(\u001b[0m\u001b[0mfilename\u001b[0m\u001b[1;33m,\u001b[0m \u001b[0mmode\u001b[0m\u001b[1;33m=\u001b[0m\u001b[0mmode\u001b[0m\u001b[1;33m,\u001b[0m \u001b[1;33m**\u001b[0m\u001b[0mkwargs\u001b[0m\u001b[1;33m)\u001b[0m\u001b[1;33m\u001b[0m\u001b[1;33m\u001b[0m\u001b[0m\n\u001b[0m\u001b[0;32m   1091\u001b[0m \u001b[1;33m\u001b[0m\u001b[0m\n\u001b[0;32m   1092\u001b[0m     \u001b[1;32mreturn\u001b[0m \u001b[0mhdulist\u001b[0m\u001b[1;33m,\u001b[0m \u001b[0mext\u001b[0m\u001b[1;33m\u001b[0m\u001b[1;33m\u001b[0m\u001b[0m\n",
      "\u001b[1;32m~\\AppData\\Roaming\\Python\\Python38\\site-packages\\astropy\\io\\fits\\hdu\\hdulist.py\u001b[0m in \u001b[0;36mfitsopen\u001b[1;34m(name, mode, memmap, save_backup, cache, lazy_load_hdus, ignore_missing_simple, **kwargs)\u001b[0m\n\u001b[0;32m    171\u001b[0m         \u001b[1;32mraise\u001b[0m \u001b[0mValueError\u001b[0m\u001b[1;33m(\u001b[0m\u001b[1;34mf'Empty filename: {name!r}'\u001b[0m\u001b[1;33m)\u001b[0m\u001b[1;33m\u001b[0m\u001b[1;33m\u001b[0m\u001b[0m\n\u001b[0;32m    172\u001b[0m \u001b[1;33m\u001b[0m\u001b[0m\n\u001b[1;32m--> 173\u001b[1;33m     return HDUList.fromfile(name, mode, memmap, save_backup, cache,\n\u001b[0m\u001b[0;32m    174\u001b[0m                             lazy_load_hdus, ignore_missing_simple, **kwargs)\n\u001b[0;32m    175\u001b[0m \u001b[1;33m\u001b[0m\u001b[0m\n",
      "\u001b[1;32m~\\AppData\\Roaming\\Python\\Python38\\site-packages\\astropy\\io\\fits\\hdu\\hdulist.py\u001b[0m in \u001b[0;36mfromfile\u001b[1;34m(cls, fileobj, mode, memmap, save_backup, cache, lazy_load_hdus, ignore_missing_simple, **kwargs)\u001b[0m\n\u001b[0;32m    406\u001b[0m         \"\"\"\n\u001b[0;32m    407\u001b[0m \u001b[1;33m\u001b[0m\u001b[0m\n\u001b[1;32m--> 408\u001b[1;33m         return cls._readfrom(fileobj=fileobj, mode=mode, memmap=memmap,\n\u001b[0m\u001b[0;32m    409\u001b[0m                              \u001b[0msave_backup\u001b[0m\u001b[1;33m=\u001b[0m\u001b[0msave_backup\u001b[0m\u001b[1;33m,\u001b[0m \u001b[0mcache\u001b[0m\u001b[1;33m=\u001b[0m\u001b[0mcache\u001b[0m\u001b[1;33m,\u001b[0m\u001b[1;33m\u001b[0m\u001b[1;33m\u001b[0m\u001b[0m\n\u001b[0;32m    410\u001b[0m                              \u001b[0mignore_missing_simple\u001b[0m\u001b[1;33m=\u001b[0m\u001b[0mignore_missing_simple\u001b[0m\u001b[1;33m,\u001b[0m\u001b[1;33m\u001b[0m\u001b[1;33m\u001b[0m\u001b[0m\n",
      "\u001b[1;32m~\\AppData\\Roaming\\Python\\Python38\\site-packages\\astropy\\io\\fits\\hdu\\hdulist.py\u001b[0m in \u001b[0;36m_readfrom\u001b[1;34m(cls, fileobj, data, mode, memmap, cache, lazy_load_hdus, ignore_missing_simple, **kwargs)\u001b[0m\n\u001b[0;32m   1062\u001b[0m             \u001b[1;32mif\u001b[0m \u001b[1;32mnot\u001b[0m \u001b[0misinstance\u001b[0m\u001b[1;33m(\u001b[0m\u001b[0mfileobj\u001b[0m\u001b[1;33m,\u001b[0m \u001b[0m_File\u001b[0m\u001b[1;33m)\u001b[0m\u001b[1;33m:\u001b[0m\u001b[1;33m\u001b[0m\u001b[1;33m\u001b[0m\u001b[0m\n\u001b[0;32m   1063\u001b[0m                 \u001b[1;31m# instantiate a FITS file object (ffo)\u001b[0m\u001b[1;33m\u001b[0m\u001b[1;33m\u001b[0m\u001b[1;33m\u001b[0m\u001b[0m\n\u001b[1;32m-> 1064\u001b[1;33m                 \u001b[0mfileobj\u001b[0m \u001b[1;33m=\u001b[0m \u001b[0m_File\u001b[0m\u001b[1;33m(\u001b[0m\u001b[0mfileobj\u001b[0m\u001b[1;33m,\u001b[0m \u001b[0mmode\u001b[0m\u001b[1;33m=\u001b[0m\u001b[0mmode\u001b[0m\u001b[1;33m,\u001b[0m \u001b[0mmemmap\u001b[0m\u001b[1;33m=\u001b[0m\u001b[0mmemmap\u001b[0m\u001b[1;33m,\u001b[0m \u001b[0mcache\u001b[0m\u001b[1;33m=\u001b[0m\u001b[0mcache\u001b[0m\u001b[1;33m)\u001b[0m\u001b[1;33m\u001b[0m\u001b[1;33m\u001b[0m\u001b[0m\n\u001b[0m\u001b[0;32m   1065\u001b[0m             \u001b[1;31m# The Astropy mode is determined by the _File initializer if the\u001b[0m\u001b[1;33m\u001b[0m\u001b[1;33m\u001b[0m\u001b[1;33m\u001b[0m\u001b[0m\n\u001b[0;32m   1066\u001b[0m             \u001b[1;31m# supplied mode was None\u001b[0m\u001b[1;33m\u001b[0m\u001b[1;33m\u001b[0m\u001b[1;33m\u001b[0m\u001b[0m\n",
      "\u001b[1;32m~\\AppData\\Roaming\\Python\\Python38\\site-packages\\astropy\\utils\\decorators.py\u001b[0m in \u001b[0;36mwrapper\u001b[1;34m(*args, **kwargs)\u001b[0m\n\u001b[0;32m    534\u001b[0m                     \u001b[0mwarnings\u001b[0m\u001b[1;33m.\u001b[0m\u001b[0mwarn\u001b[0m\u001b[1;33m(\u001b[0m\u001b[0mmessage\u001b[0m\u001b[1;33m,\u001b[0m \u001b[0mwarning_type\u001b[0m\u001b[1;33m,\u001b[0m \u001b[0mstacklevel\u001b[0m\u001b[1;33m=\u001b[0m\u001b[1;36m2\u001b[0m\u001b[1;33m)\u001b[0m\u001b[1;33m\u001b[0m\u001b[1;33m\u001b[0m\u001b[0m\n\u001b[0;32m    535\u001b[0m \u001b[1;33m\u001b[0m\u001b[0m\n\u001b[1;32m--> 536\u001b[1;33m             \u001b[1;32mreturn\u001b[0m \u001b[0mfunction\u001b[0m\u001b[1;33m(\u001b[0m\u001b[1;33m*\u001b[0m\u001b[0margs\u001b[0m\u001b[1;33m,\u001b[0m \u001b[1;33m**\u001b[0m\u001b[0mkwargs\u001b[0m\u001b[1;33m)\u001b[0m\u001b[1;33m\u001b[0m\u001b[1;33m\u001b[0m\u001b[0m\n\u001b[0m\u001b[0;32m    537\u001b[0m \u001b[1;33m\u001b[0m\u001b[0m\n\u001b[0;32m    538\u001b[0m         \u001b[1;32mreturn\u001b[0m \u001b[0mwrapper\u001b[0m\u001b[1;33m\u001b[0m\u001b[1;33m\u001b[0m\u001b[0m\n",
      "\u001b[1;32m~\\AppData\\Roaming\\Python\\Python38\\site-packages\\astropy\\io\\fits\\file.py\u001b[0m in \u001b[0;36m__init__\u001b[1;34m(self, fileobj, mode, memmap, overwrite, cache)\u001b[0m\n\u001b[0;32m    168\u001b[0m             \u001b[0mself\u001b[0m\u001b[1;33m.\u001b[0m\u001b[0m_open_fileobj\u001b[0m\u001b[1;33m(\u001b[0m\u001b[0mfileobj\u001b[0m\u001b[1;33m,\u001b[0m \u001b[0mmode\u001b[0m\u001b[1;33m,\u001b[0m \u001b[0moverwrite\u001b[0m\u001b[1;33m)\u001b[0m\u001b[1;33m\u001b[0m\u001b[1;33m\u001b[0m\u001b[0m\n\u001b[0;32m    169\u001b[0m         \u001b[1;32melif\u001b[0m \u001b[0misinstance\u001b[0m\u001b[1;33m(\u001b[0m\u001b[0mfileobj\u001b[0m\u001b[1;33m,\u001b[0m \u001b[1;33m(\u001b[0m\u001b[0mstr\u001b[0m\u001b[1;33m,\u001b[0m \u001b[0mbytes\u001b[0m\u001b[1;33m)\u001b[0m\u001b[1;33m)\u001b[0m\u001b[1;33m:\u001b[0m\u001b[1;33m\u001b[0m\u001b[1;33m\u001b[0m\u001b[0m\n\u001b[1;32m--> 170\u001b[1;33m             \u001b[0mself\u001b[0m\u001b[1;33m.\u001b[0m\u001b[0m_open_filename\u001b[0m\u001b[1;33m(\u001b[0m\u001b[0mfileobj\u001b[0m\u001b[1;33m,\u001b[0m \u001b[0mmode\u001b[0m\u001b[1;33m,\u001b[0m \u001b[0moverwrite\u001b[0m\u001b[1;33m)\u001b[0m\u001b[1;33m\u001b[0m\u001b[1;33m\u001b[0m\u001b[0m\n\u001b[0m\u001b[0;32m    171\u001b[0m         \u001b[1;32melse\u001b[0m\u001b[1;33m:\u001b[0m\u001b[1;33m\u001b[0m\u001b[1;33m\u001b[0m\u001b[0m\n\u001b[0;32m    172\u001b[0m             \u001b[0mself\u001b[0m\u001b[1;33m.\u001b[0m\u001b[0m_open_filelike\u001b[0m\u001b[1;33m(\u001b[0m\u001b[0mfileobj\u001b[0m\u001b[1;33m,\u001b[0m \u001b[0mmode\u001b[0m\u001b[1;33m,\u001b[0m \u001b[0moverwrite\u001b[0m\u001b[1;33m)\u001b[0m\u001b[1;33m\u001b[0m\u001b[1;33m\u001b[0m\u001b[0m\n",
      "\u001b[1;32m~\\AppData\\Roaming\\Python\\Python38\\site-packages\\astropy\\io\\fits\\file.py\u001b[0m in \u001b[0;36m_open_filename\u001b[1;34m(self, filename, mode, overwrite)\u001b[0m\n\u001b[0;32m    556\u001b[0m \u001b[1;33m\u001b[0m\u001b[0m\n\u001b[0;32m    557\u001b[0m         \u001b[1;32mif\u001b[0m \u001b[1;32mnot\u001b[0m \u001b[0mself\u001b[0m\u001b[1;33m.\u001b[0m\u001b[0m_try_read_compressed\u001b[0m\u001b[1;33m(\u001b[0m\u001b[0mself\u001b[0m\u001b[1;33m.\u001b[0m\u001b[0mname\u001b[0m\u001b[1;33m,\u001b[0m \u001b[0mmagic\u001b[0m\u001b[1;33m,\u001b[0m \u001b[0mmode\u001b[0m\u001b[1;33m,\u001b[0m \u001b[0mext\u001b[0m\u001b[1;33m=\u001b[0m\u001b[0mext\u001b[0m\u001b[1;33m)\u001b[0m\u001b[1;33m:\u001b[0m\u001b[1;33m\u001b[0m\u001b[1;33m\u001b[0m\u001b[0m\n\u001b[1;32m--> 558\u001b[1;33m             \u001b[0mself\u001b[0m\u001b[1;33m.\u001b[0m\u001b[0m_file\u001b[0m \u001b[1;33m=\u001b[0m \u001b[0mfileobj_open\u001b[0m\u001b[1;33m(\u001b[0m\u001b[0mself\u001b[0m\u001b[1;33m.\u001b[0m\u001b[0mname\u001b[0m\u001b[1;33m,\u001b[0m \u001b[0mIO_FITS_MODES\u001b[0m\u001b[1;33m[\u001b[0m\u001b[0mmode\u001b[0m\u001b[1;33m]\u001b[0m\u001b[1;33m)\u001b[0m\u001b[1;33m\u001b[0m\u001b[1;33m\u001b[0m\u001b[0m\n\u001b[0m\u001b[0;32m    559\u001b[0m             \u001b[0mself\u001b[0m\u001b[1;33m.\u001b[0m\u001b[0mclose_on_error\u001b[0m \u001b[1;33m=\u001b[0m \u001b[1;32mTrue\u001b[0m\u001b[1;33m\u001b[0m\u001b[1;33m\u001b[0m\u001b[0m\n\u001b[0;32m    560\u001b[0m \u001b[1;33m\u001b[0m\u001b[0m\n",
      "\u001b[1;32m~\\AppData\\Roaming\\Python\\Python38\\site-packages\\astropy\\io\\fits\\util.py\u001b[0m in \u001b[0;36mfileobj_open\u001b[1;34m(filename, mode)\u001b[0m\n\u001b[0;32m    388\u001b[0m     \"\"\"\n\u001b[0;32m    389\u001b[0m \u001b[1;33m\u001b[0m\u001b[0m\n\u001b[1;32m--> 390\u001b[1;33m     \u001b[1;32mreturn\u001b[0m \u001b[0mopen\u001b[0m\u001b[1;33m(\u001b[0m\u001b[0mfilename\u001b[0m\u001b[1;33m,\u001b[0m \u001b[0mmode\u001b[0m\u001b[1;33m,\u001b[0m \u001b[0mbuffering\u001b[0m\u001b[1;33m=\u001b[0m\u001b[1;36m0\u001b[0m\u001b[1;33m)\u001b[0m\u001b[1;33m\u001b[0m\u001b[1;33m\u001b[0m\u001b[0m\n\u001b[0m\u001b[0;32m    391\u001b[0m \u001b[1;33m\u001b[0m\u001b[0m\n\u001b[0;32m    392\u001b[0m \u001b[1;33m\u001b[0m\u001b[0m\n",
      "\u001b[1;31mFileNotFoundError\u001b[0m: [Errno 2] No such file or directory: 'pleiades_30s_C_other_001_darksub_flattened.fits'"
     ]
    }
   ],
   "source": [
    "pleiades_clear_darksub_flattened = fits.getdata('pleiades_30s_C_other_001_darksub_flattened.fits')\n",
    "pleiades_clear_darksub_flattened_uncertainty = fits.getdata('pleiades_30s_C_other_001_darksub_flattened_uncertainty.fits')"
   ]
  },
  {
   "cell_type": "markdown",
   "metadata": {},
   "source": [
    "Quick consistency check:  Make sure these numbers match up.  If either of these numbers are not correct, you need to go back and re-run the Data Reduction - Single Frame notebook."
   ]
  },
  {
   "cell_type": "code",
   "execution_count": null,
   "metadata": {},
   "outputs": [],
   "source": [
    "print(f\"This value: {pleiades_clear_darksub_flattened_uncertainty[50,50]:0.2f} should be 39.72\")\n",
    "print(f\"This value: {pleiades_clear_darksub_flattened[50,50]:0.2f} should be 952.24\")"
   ]
  },
  {
   "cell_type": "markdown",
   "metadata": {},
   "source": [
    "As usual, the first thing we do is display & inspect the data"
   ]
  },
  {
   "cell_type": "code",
   "execution_count": null,
   "metadata": {},
   "outputs": [],
   "source": [
    "pl.figure(figsize=(16,5))\n",
    "im = pl.subplot(1,2,1).imshow(pleiades_clear_darksub_flattened, origin='lower', interpolation='none', vmax=600, vmin=400)\n",
    "pl.colorbar(im)\n",
    "_=pl.title(\"Pleiades Clear, dark-subtracted, flattened image\")\n",
    "_=pl.xlabel(\"X pixel\")\n",
    "_=pl.ylabel(\"Y pixel\")\n",
    "\n",
    "_ = pl.subplot(1,2,2).hist(pleiades_clear_darksub_flattened.ravel(), bins=50, log=True)\n",
    "_ = pl.xlabel(\"Counts\")\n",
    "_ = pl.ylabel(\"Number of pixels\")"
   ]
  },
  {
   "cell_type": "markdown",
   "metadata": {},
   "source": [
    "And the uncertainty:"
   ]
  },
  {
   "cell_type": "code",
   "execution_count": null,
   "metadata": {},
   "outputs": [],
   "source": [
    "pl.figure(figsize=(16,5))\n",
    "im = pl.subplot(1,2,1).imshow(pleiades_clear_darksub_flattened_uncertainty,\n",
    "                              origin='lower', interpolation='none', vmax=50, vmin=20)\n",
    "pl.colorbar(im)\n",
    "_=pl.title(\"Pleiades per-pixel uncertainty\")\n",
    "_=pl.xlabel(\"X pixel\")\n",
    "_=pl.ylabel(\"Y pixel\")\n",
    "\n",
    "_ = pl.subplot(1,2,2).hist(pleiades_clear_darksub_flattened_uncertainty.ravel(), bins=50, log=True)\n",
    "_ = pl.xlabel(\"Uncertainty\")\n",
    "_ = pl.ylabel(\"Number of pixels\")"
   ]
  },
  {
   "cell_type": "markdown",
   "metadata": {},
   "source": [
    "## Photometry\n",
    "\n",
    "Our next step is to perform some measurements of the stars.\n",
    "\n",
    "To measure the light from a single star, we need to select only pixels containing that star's light.  \n",
    "\n",
    "As a first attempt, we can just select a small box containing the star.  You can figure out the size, shape, and location of this box by eyeballing the image above, then iterating a few times to get the right spot.  In other words, you might have started with a box $\\sim~$30 pixels on a side centered on $x\\sim500$, $y\\sim175$, which would be `image[175-15:175+15, 500-15:500+15]`, then gradually changed the center and limits, each time inspecting the image, until you have a tightly-framed box around the star, as below:"
   ]
  },
  {
   "cell_type": "code",
   "execution_count": null,
   "metadata": {},
   "outputs": [],
   "source": [
    "cutout_star = pleiades_clear_darksub_flattened[158:178, 492:512]\n",
    "pl.figure(figsize=(14,6))\n",
    "im = pl.subplot(1,2,1).imshow(cutout_star, cmap='gray', origin='lower')\n",
    "pl.xlabel(\"Cutout X-position relative to X=492\")\n",
    "pl.ylabel(\"Cutout Y-position relative to Y=158\")\n",
    "pl.colorbar(im)\n",
    "_=pl.subplot(1,2,2).hist(cutout_star.ravel(), bins=50)\n",
    "_=pl.xlabel(\"Pixel Value\")\n",
    "_=pl.ylabel(\"Number of Pixels\")"
   ]
  },
  {
   "cell_type": "markdown",
   "metadata": {},
   "source": [
    "The image shows our star, which is a little distorted.  The distortion is most likely from _tracking errors_ in the telescope: it is not rotating exactly correctly to follow the sky.\n",
    "\n",
    "You should also note that the floor of the image, the lowest observed flux measurement, is not zero.  The floor is closer to ~500. This background is most likely produced by sky contamination.  From CTO, that most likely means scattered light from Gainesville.\n",
    "\n",
    "To remove this background, we need to obtain an estimate of the sky value.\n",
    "\n",
    "Because the image is almost entirely sky pixels (the target stars only take up a very small number of them), we can assume that the whole image is effectively an image of the sky background.  We can therefore use the mean (or, more robustly, the median) of the whole image as our sky estimate (but note that this is not possible for all observations - for images of M42, for example, the nebula fills the CCD, so you need separate images to estimate the sky contamination):"
   ]
  },
  {
   "cell_type": "code",
   "execution_count": null,
   "metadata": {},
   "outputs": [],
   "source": [
    "sky_mean = pleiades_clear_darksub_flattened.mean()\n",
    "sky_median = np.median(pleiades_clear_darksub_flattened)\n",
    "print(sky_mean, sky_median)"
   ]
  },
  {
   "cell_type": "code",
   "execution_count": null,
   "metadata": {},
   "outputs": [],
   "source": [
    "_=pl.hist(pleiades_clear_darksub_flattened.ravel(), bins=np.linspace(800,1300))\n",
    "_=pl.axvline(sky_mean, color='r', label='mean')\n",
    "_=pl.axvline(sky_median, color='y', label='median')\n",
    "_=pl.legend(loc='best')\n",
    "_=pl.xlabel(\"Pixel Value\")\n",
    "_=pl.ylabel(\"Number of Pixels\")"
   ]
  },
  {
   "cell_type": "markdown",
   "metadata": {},
   "source": [
    "These values are nThese values are nearly the same, so we can use either safely.  If the mean and median didn't line up, we would then look for a source of bias - maybe there are outliers that affect the mean, for example.early the same, so we can use either safely.\n",
    "\n",
    "## Q1\n",
    "[Index](#Index)\n",
    "\n",
    "Let's briefly take an aside - what is the uncertainty on this measurement of the sky background?  Recall that the error on the mean, $\\sigma_\\mu$, is the uncertainty on any individual measurement divided by the number of measurements, i.e.: $\\sigma_\\mu = \\sigma_i / \\sqrt{N}$.\n",
    "\n"
   ]
  },
  {
   "cell_type": "markdown",
   "metadata": {},
   "source": [
    "Each individual pixel's value is an independent measurement of the sky.  \n",
    "\n",
    "$$\\Sigma_{sky} = \\sum x_i$$\n",
    "\n",
    "The propagation of error formula for sums gives us the error on the sum. \n",
    "$$\\sigma_{\\Sigma}^2 = \\sum \\sigma_i^2 = N \\sigma^2_i$$\n",
    "\n",
    " If we assume $\\sigma_i$ is constant (every pixel has the same uncertainty), we can simplify this further:\n",
    "\n",
    "$$\\sigma_{\\Sigma}^2 = \\sum \\sigma_i^2 = N \\sigma^2_i$$\n",
    "\n",
    "so\n",
    "$$\\sigma_{\\Sigma} = \\sqrt{N} \\sigma_i$$\n"
   ]
  },
  {
   "cell_type": "markdown",
   "metadata": {},
   "source": [
    "We want to calculate the \\emph{mean}, which is defined as the sum divided by the number of elements summed over, i.e.:\n",
    "\n",
    "$$\\mu_{sky} = \\frac{1}{N} \\sum x_i$$\n",
    "\n",
    "The propagation of error formula gives us, again:\n",
    "$$\\sigma_{\\mu}^2 = \\frac{1}{N^2} \\Sigma \\sigma_i^2$$\n",
    "\n",
    "So we have:\n",
    "\n",
    "$$\\sigma_{\\mu} = \\left(\\frac{1}{N^2} \\Sigma \\sigma_i^2\\right)^{1/2} = \\frac{1}{N}\\sigma_{\\Sigma}$$\n",
    "\n",
    "which, if we put in $\\sigma_{\\Sigma}$ from above, gets us to:\n",
    "\n",
    "$$\\sigma_{\\mu} = \\frac{1}{N}\\sigma_{\\Sigma} = \\frac{\\sqrt{N} \\sigma_i}{N} = \\frac{\\sigma_{i}}{\\sqrt{N}}$$\n",
    "\n"
   ]
  },
  {
   "cell_type": "markdown",
   "metadata": {},
   "source": [
    "We calculated the per-pixel uncertainty, and loaded it into this notebook, from the previous exercise using our usual propagation of error formulae.\n"
   ]
  },
  {
   "cell_type": "code",
   "execution_count": null,
   "metadata": {},
   "outputs": [],
   "source": [
    "# first, let's calculate the error on the _sum_ of all sky pixels\n",
    "uncertainty_sky_sum = (pleiades_clear_darksub_flattened_uncertainty**2).sum()**0.5\n",
    "print(f\"uncertainty_sky_sum={uncertainty_sky_sum}  (should be 26166.656)\")"
   ]
  },
  {
   "cell_type": "markdown",
   "metadata": {},
   "source": [
    "We have a lot of pixels.  $N$ is:"
   ]
  },
  {
   "cell_type": "code",
   "execution_count": null,
   "metadata": {},
   "outputs": [],
   "source": [
    "pleiades_clear_darksub_flattened.size"
   ]
  },
  {
   "cell_type": "code",
   "execution_count": null,
   "metadata": {},
   "outputs": [],
   "source": [
    "# given the above, what is the uncertainty on the _mean_ sky estimate?\n",
    "uncertainty_on_sky_mean = # STUDENT ANSWER HERE\n",
    "uncertainty_on_sky_mean"
   ]
  },
  {
   "cell_type": "code",
   "execution_count": null,
   "metadata": {},
   "outputs": [],
   "source": [
    "print(f\"The sky mean is {sky_mean:0.2f} +/- {uncertainty_on_sky_mean:0.2f}.  The SNR={sky_mean/uncertainty_on_sky_mean:0.2g}\")"
   ]
  },
  {
   "cell_type": "markdown",
   "metadata": {},
   "source": [
    "You should find the uncertainty is very small (~0.04-0.05), such that the S/N of our \"sky background\" measurement is ~10,000.\n",
    "\n",
    "\"`The sky mean is 464.25 +/- 0.05.  The SNR=8.4e+03`\""
   ]
  },
  {
   "cell_type": "markdown",
   "metadata": {},
   "source": [
    "Note that there are two ways to compute the per-pixel uncertainty: you can follow the error propagation rules we used above or, in cases where you have a lot of pixels independently measuring the same signal (like this case), you can directly estimate the noise from the standard deviation of the data:"
   ]
  },
  {
   "cell_type": "code",
   "execution_count": null,
   "metadata": {},
   "outputs": [],
   "source": [
    "sky_stddev = pleiades_clear_darksub_flattened.std() # estimate of the per-pixel error\n",
    "print(f\"Standard deviation of the data: {sky_stddev:0.1f}\")\n",
    "print(f\"Average of the per-pixel uncertainty from error propagation: {pleiades_clear_darksub_flattened_uncertainty.mean():0.1f}\")"
   ]
  },
  {
   "cell_type": "markdown",
   "metadata": {},
   "source": [
    "The per-pixel error is substantial, ~40 and this error will play an important role in our photometry measurements below."
   ]
  },
  {
   "cell_type": "markdown",
   "metadata": {},
   "source": [
    "## Q2\n",
    "[Index](#Index)\n",
    "\n",
    "Another aside, going back to the atmosphere lecture:  What color will the \"sky background\" be, and why?  By \"color\" here, we mean the wavelength of light we measure, and particularly the relative amount of light at different wavelengths.  Credit here is for explaining your reasoning - there are multiple possible correct answers, and we don't know which is correct without measuring.  Bonus points if you come up with multiple mechanisms and can describe a measurement we can perform with our instruments to distinguish between them."
   ]
  },
  {
   "cell_type": "markdown",
   "metadata": {},
   "source": [
    "STUDENT ANSWER\n",
    "free-form student answer here"
   ]
  },
  {
   "cell_type": "markdown",
   "metadata": {},
   "source": [
    "(back on-topic)\n",
    "\n",
    "\n",
    "Now, we can subtract that sky value from the image:"
   ]
  },
  {
   "cell_type": "code",
   "execution_count": null,
   "metadata": {},
   "outputs": [],
   "source": [
    "sky_subtracted_pleiades_clear = pleiades_clear_darksub_flattened - sky_mean"
   ]
  },
  {
   "cell_type": "markdown",
   "metadata": {},
   "source": [
    "Now we can look at it again, and we see that the background level is approximately zero:"
   ]
  },
  {
   "cell_type": "code",
   "execution_count": null,
   "metadata": {},
   "outputs": [],
   "source": [
    "cutout_star = sky_subtracted_pleiades_clear[158:178, 492:512]\n",
    "\n",
    "pl.figure(figsize=(14,6))\n",
    "im = pl.subplot(1,2,1).imshow(cutout_star, cmap='gray', origin='lower')\n",
    "pl.xlabel(\"Cutout X-position relative to X=492\")\n",
    "pl.ylabel(\"Cutout Y-position relative to Y=158\")\n",
    "pl.colorbar(im)\n",
    "_=pl.subplot(1,2,2).hist(cutout_star.ravel(), bins=50)\n",
    "_=pl.xlabel(\"Pixel Value\")\n",
    "_=pl.ylabel(\"Number of Pixels\")"
   ]
  },
  {
   "cell_type": "markdown",
   "metadata": {},
   "source": [
    "Note that the peak of the histogram is near (but not exactly) zero now that we have subtracted off the sky background.  Ideally, it would be exactly zero; the remainder may just be noise or may be scattered light from this star or nearby stars."
   ]
  },
  {
   "cell_type": "markdown",
   "metadata": {},
   "source": [
    "So, how much flux is in the star?  We can simply sum over the cutout area we've made:"
   ]
  },
  {
   "cell_type": "code",
   "execution_count": null,
   "metadata": {},
   "outputs": [],
   "source": [
    "star_sum = cutout_star.sum()\n",
    "print(star_sum)"
   ]
  },
  {
   "cell_type": "markdown",
   "metadata": {},
   "source": [
    "We have a flux measurement!  We now need to measure the uncertainty on that measurement.\n",
    "\n",
    "We can start by noting how many pixels we summed over:"
   ]
  },
  {
   "cell_type": "code",
   "execution_count": null,
   "metadata": {},
   "outputs": [],
   "source": [
    "cutout_star.size"
   ]
  },
  {
   "cell_type": "markdown",
   "metadata": {},
   "source": [
    "The error per pixel is, to first order, the same as the error per pixel of the sky background measurement.  There's actually more noise than that because of the higher counts in the star (which increases Poisson noise), but let's start with the sky-based noise estimate.\n",
    "\n",
    "What contributes to the sky noise $\\sigma_{sky}$?  At least three components: \n",
    "* read noise\n",
    "* Poisson noise from dark current\n",
    "* Poisson noise from the sky.\n",
    "\n",
    "However, we don't need to know the value of each component, we just need to know the per-pixel uncertainty $\\sigma_{sky}$\n",
    "\n",
    "\n",
    "What is the error on our measurement, then?  It's the error on the sum, which is the sum in quadrature of the errors on the individual measurements.  As long as the error on each pixel is the same, we have:\n",
    "$$ \\sigma_{sum} = \\left(\\Sigma_i \\sigma_i^2\\right)^{1/2} = \\left(N \\sigma_i^2\\right)^{1/2} = N^{1/2} \\sigma_i$$"
   ]
  },
  {
   "cell_type": "code",
   "execution_count": null,
   "metadata": {},
   "outputs": [],
   "source": [
    "star_sum_error = (cutout_star.size * sky_stddev**2)**0.5\n",
    "star_sum_error"
   ]
  },
  {
   "cell_type": "markdown",
   "metadata": {},
   "source": [
    "Starting with just this source of error, what's our signal-to-noise ratio?"
   ]
  },
  {
   "cell_type": "code",
   "execution_count": null,
   "metadata": {},
   "outputs": [],
   "source": [
    "star_sum / star_sum_error"
   ]
  },
  {
   "cell_type": "markdown",
   "metadata": {},
   "source": [
    "That's a signal-to-noise ratio of about 40. "
   ]
  },
  {
   "cell_type": "markdown",
   "metadata": {},
   "source": [
    "## Q3\n",
    "[Index](#Index)\n",
    "\n",
    "For a signal-to-noise ratio of 40, what is the _approximate_ magnitude error?\n",
    "\n",
    "Remember the magnitude error is approximately the inverse of the signal-to-noise ratio for small enough uncertainties."
   ]
  },
  {
   "cell_type": "code",
   "execution_count": null,
   "metadata": {},
   "outputs": [],
   "source": [
    "# student answer\n",
    "mag_err =  \n",
    "mag_err"
   ]
  },
  {
   "cell_type": "markdown",
   "metadata": {},
   "source": [
    "That estimate ignored the Poisson noise from the star."
   ]
  },
  {
   "cell_type": "markdown",
   "metadata": {},
   "source": [
    "### Adding Poisson error from the star to the Sky uncertainty\n",
    "\n",
    "To more accurately determine the error, which is a little larger than that value above, we need to account for the Poisson noise from the star itself.\n",
    "\n",
    "Recall that the total noise in a pixel has several contributions:\n",
    "$$ \\sigma_{pixel}^2 = \\sigma_{readnoise}^2 + \\sigma_{dark,Poisson}^2 + \\sigma_{sky,Poisson}^2 + \\sigma_{star,Poisson}^2$$\n",
    "\n",
    "We noted before that the sky noise $\\sigma_{sky}$ contains contributions from dark, readnoise, and sky, and we have measured it.  We assume that the background noise (sky, dark, and readnoise) is uniform (doesn't change anywhere in our image).  So, given\n",
    "$$\\sigma_{sky}^2 = \\sigma_{readnoise}^2 + \\sigma_{dark,Poisson}^2 + \\sigma_{sky,Poisson}^2$$\n",
    "we can substitute our measured $\\sigma_{sky}$ in the first equation above to get:\n",
    "$$ \\sigma_{pixel}^2 = \\sigma_{sky}^2 + \\sigma_{star,Poisson}^2$$\n",
    "\n",
    "Since we've already measured $\\sigma_{sky}$, we only need to measure $\\sigma_{star,Poisson}$, which we can obtain from $\\sqrt{\\lambda}$, i.e., the square root of the number of counts.  In other words, $\\sigma_{star,Poisson}^2 = n_{counts}$"
   ]
  },
  {
   "cell_type": "markdown",
   "metadata": {},
   "source": [
    "Recall that the `cutout_star` image should now consist only of starlight measurement, with no contribution from dark, bias, or sky background since we subtracted off the bias and sky background previously.  That means that each pixel is a measurement of the number of counts (if you account for the gain), which is the squared error.\n",
    "\n",
    "The operation below measures the error on _each pixel_:"
   ]
  },
  {
   "cell_type": "code",
   "execution_count": null,
   "metadata": {},
   "outputs": [],
   "source": [
    "# we re-load the gain as a reminder, but if we did the dark subtraction and flattening right, we already accounted for the gain\n",
    "gain = fits.getheader('pleiades_30s_C_other_001_darksub_flattened.fits')['EGAIN']\n",
    "gain"
   ]
  },
  {
   "cell_type": "code",
   "execution_count": null,
   "metadata": {},
   "outputs": [],
   "source": [
    "# we just rename the variable to make more clear that the \"cutout\" contains electron counts\n",
    "per_pixel_electron_counts_star_cutout = cutout_star"
   ]
  },
  {
   "cell_type": "code",
   "execution_count": null,
   "metadata": {},
   "outputs": [],
   "source": [
    "per_pixel_error = (per_pixel_electron_counts_star_cutout + sky_stddev**2)**0.5"
   ]
  },
  {
   "cell_type": "markdown",
   "metadata": {},
   "source": [
    "So, now what is the true total error?  Again we simply sum in quadrature ($\\sigma^2_\\Sigma = \\Sigma \\sigma_i^2$):"
   ]
  },
  {
   "cell_type": "code",
   "execution_count": null,
   "metadata": {},
   "outputs": [],
   "source": [
    "total_star_sum_error = (per_pixel_error**2).sum()**0.5\n",
    "total_star_sum_error"
   ]
  },
  {
   "cell_type": "markdown",
   "metadata": {},
   "source": [
    "That error is only a little larger than the previous one.  "
   ]
  },
  {
   "cell_type": "markdown",
   "metadata": {},
   "source": [
    "Noting the _peak counts_ (the brightest pixel) in the star are ~1000:"
   ]
  },
  {
   "cell_type": "code",
   "execution_count": null,
   "metadata": {},
   "outputs": [],
   "source": [
    "cutout_star.max()"
   ]
  },
  {
   "cell_type": "markdown",
   "metadata": {},
   "source": [
    "# Q4\n",
    "[Index](#Index)\n",
    "\n",
    "Explain why the error when including the Poisson noise from the star is only a little larger than the error when _not_ including it.  \n",
    "\n",
    "Hint: How many photons did you get from the star in the brightest pixel?  How many photons did you get from the sky (background) in that same pixel?"
   ]
  },
  {
   "cell_type": "markdown",
   "metadata": {},
   "source": [
    "STUDENT ANSWER\n"
   ]
  },
  {
   "cell_type": "markdown",
   "metadata": {},
   "source": [
    "In the end, we have a measurement $S_* = 41300 \\pm 1100$ with SNR = 38"
   ]
  },
  {
   "cell_type": "code",
   "execution_count": null,
   "metadata": {},
   "outputs": [],
   "source": [
    "# I used this print statement to get the above answer\n",
    "# int() converts a float measurement to an integer - so instead of printing 41000.0, it prints 41000\n",
    "# np.around is a rounding tool.  I told the code to round each of the numbers to have the correct significant figures\n",
    "# (we estimated that the error has two significant figures, but we matched the star counts to the error's number\n",
    "# of significant figures)\n",
    "print(f\"In the end, we have a measurement $S_* = {int(np.round(star_sum, -2))} \\pm {int(np.around(total_star_sum_error,-2))}$\"\n",
    "      f\" with SNR = {int(np.around(star_sum / total_star_sum_error, 0))}\")"
   ]
  },
  {
   "cell_type": "markdown",
   "metadata": {},
   "source": [
    "## Optimizing our Measurement\n",
    "[Index](#Index)\n",
    "\n",
    "\n",
    "However, note that this is not an optimal measurement.  We included _noise_ from many pixels that did not contain any signal, thereby reducing our signal-to-noise ratio.  \n",
    "\n",
    "We can improve this measurement by excluding the pixels that only contribute noise and do not contribute signal.\n",
    "\n",
    "To figure out which pixels these are, we can apply a signal-to-noise threshold.  \n",
    "\n",
    "We know the typical per-pixel noise is $\\sim 50$ counts, so if we include only pixels $S>2\\sigma$ ($S>100$ counts), we might see only the star.  Note that $2\\sigma$ is an arbitrary threshold - different thresholds ($3\\sigma$, $5\\sigma$, etc) may be more appropriate in other situations.\n",
    "\n",
    "In the next plot, we'll overlay _contours_ selecting the region with $S>2\\sigma$:"
   ]
  },
  {
   "cell_type": "code",
   "execution_count": null,
   "metadata": {},
   "outputs": [],
   "source": [
    "pl.figure(figsize=(8,8))\n",
    "im = pl.imshow(cutout_star, cmap='gray', origin='lower')\n",
    "cb = pl.colorbar(im)\n",
    "cb.set_label(\"Counts [ADU]\")\n",
    "pl.contour(cutout_star, levels=[2*sky_stddev], colors=['r'])\n",
    "_=pl.xlabel(\"X pixel coordinate of cutout\")\n",
    "_=pl.ylabel(\"Y pixel coordinate of cutout\")"
   ]
  },
  {
   "cell_type": "markdown",
   "metadata": {},
   "source": [
    "We can create a _mask_ to select only pixels above the threshold:"
   ]
  },
  {
   "cell_type": "code",
   "execution_count": null,
   "metadata": {},
   "outputs": [],
   "source": [
    "mask = cutout_star > 2*sky_stddev"
   ]
  },
  {
   "cell_type": "markdown",
   "metadata": {},
   "source": [
    "The `mask` is a _boolean array mask_, in which each pixel is either `True` or `False`.\n",
    "\n",
    "If you multiply another number by a boolean, like `5*True` or `3*False`, they are treated as `True=1`, `False=0`.\n",
    "\n",
    "Both of these are shown in the next figure:"
   ]
  },
  {
   "cell_type": "code",
   "execution_count": null,
   "metadata": {},
   "outputs": [],
   "source": [
    "pl.subplot(1,2,1).imshow(mask)\n",
    "pl.title(\"Mask\")\n",
    "_=pl.xlabel(\"X pixel coordinate of cutout\")\n",
    "_=pl.ylabel(\"Y pixel coordinate of cutout\")\n",
    "pl.subplot(1,2,2).imshow(cutout_star*mask, cmap='gray')\n",
    "pl.title(\"Masked image\")\n",
    "_=pl.xlabel(\"X pixel coordinate of cutout\")\n",
    "_=pl.ylabel(\"Y pixel coordinate of cutout\")"
   ]
  },
  {
   "cell_type": "markdown",
   "metadata": {},
   "source": [
    "We can sum over only the included pixels now (those where `mask==True`), and compute the noise for only these pixels."
   ]
  },
  {
   "cell_type": "code",
   "execution_count": null,
   "metadata": {},
   "outputs": [],
   "source": [
    "masked_star_sum = cutout_star[mask].sum()\n",
    "print(f\"Masked star sum = {masked_star_sum:0.1f}, \"\n",
    "      f\"{-(masked_star_sum-star_sum)/star_sum*100:0.1f} percent less than {star_sum:0.1f}\")"
   ]
  },
  {
   "cell_type": "markdown",
   "metadata": {},
   "source": [
    "Since we summed over a smaller area, we also have a smaller contribution of sky noise.  We repeat the total error calculation we made above, but now using only masked pixels.  Note that `mask.sum()` is the number of pixels included in the mask:"
   ]
  },
  {
   "cell_type": "code",
   "execution_count": null,
   "metadata": {},
   "outputs": [],
   "source": [
    "masked_star_sum_error = (cutout_star[mask].sum() + sky_stddev**2*mask.sum())**0.5\n",
    "print(masked_star_sum_error)"
   ]
  },
  {
   "cell_type": "code",
   "execution_count": null,
   "metadata": {},
   "outputs": [],
   "source": [
    "print(f\"For the masked sum, we obtain $S_* = {int(np.round(masked_star_sum, -2))} \\pm {int(np.around(masked_star_sum_error,-2))}$\"\n",
    "      f\" with SNR = {int(np.around(masked_star_sum / masked_star_sum_error, 0))}\")\n"
   ]
  },
  {
   "cell_type": "markdown",
   "metadata": {},
   "source": [
    "\n",
    "The new value for the sum is quite a bit different from the original, but it includes all the flux from the star.  \n",
    "The signal-to-noise ratio is higher because we didn't include as much noise."
   ]
  },
  {
   "cell_type": "markdown",
   "metadata": {},
   "source": [
    "\n",
    "## Systematic Errors\n",
    "[Index](#Index)\n",
    "\n",
    "That extra 15% in the original measurement may come from several possible sources: \n",
    " * Background stars that are too faint to see individually\n",
    " * Localized sky emission that is different from the mean (this is unlikely to be significant)\n",
    " * Localized nebular emission or reflected emission\n",
    " * Inadequately-corrected flat-field effects\n",
    " * Pixels containing some star flux that were excluded because they are below the threshold (this effect is often corrected using an _aperture correction_, which accounts for a well-understood point-spread-function [PSF])\n",
    " \n",
    "Depending on how accurate we need our measurements to be, we may need to account for these errors.  Flux loss errors like this are generally called _systematic errors_ because they operate in only one direction (in this case, lower flux, not higher), as opposed to measurement errors that are _random_ and tend to average to zero."
   ]
  },
  {
   "cell_type": "markdown",
   "metadata": {},
   "source": [
    "To search for systematic errors, we can examine our data more closely:"
   ]
  },
  {
   "cell_type": "code",
   "execution_count": null,
   "metadata": {},
   "outputs": [],
   "source": [
    "_=pl.hist(cutout_star[mask], bins=np.linspace(0,500,20), label='Included', histtype='step')\n",
    "_=pl.hist(cutout_star[~mask], bins=np.linspace(-60,100,15), label='Excluded', histtype='step')\n",
    "_=pl.legend()\n",
    "_=pl.xlabel(\"Pixel Value (counts)\")\n",
    "_=pl.ylabel(\"Number of Pixels\")\n",
    "print(f\"Mean of 'background' region: {cutout_star[~mask].mean():0.1f}, \"\n",
    "      f\"Sum of 'background' region: {cutout_star[~mask].sum():0.1f}\")"
   ]
  },
  {
   "cell_type": "markdown",
   "metadata": {},
   "source": [
    "We can see from the above histogram and arithmetic that the background pixels have a non-zero mean.  \n",
    "\n",
    "If you refer back to the [original](#Step-1:-Load-the-data) full image, you can see that there was a leftover gradient in the background. This un-subtracted background, whose origin we do not yet know, is likely the cause of the excess background light.  Note this sort of feature during your reduction, you'll have to explain it!"
   ]
  },
  {
   "cell_type": "markdown",
   "metadata": {},
   "source": [
    "### Masked SNR\n",
    "[Index](#Index)\n",
    "\n",
    "Finally, we return to the masked sum and SNR calculation:"
   ]
  },
  {
   "cell_type": "code",
   "execution_count": null,
   "metadata": {},
   "outputs": [],
   "source": [
    "print(f\"Masked measurement is {masked_star_sum:0.1f} +/- {masked_star_sum_error:0.1f}\"\n",
    "      f\" for SNR={masked_star_sum/masked_star_sum_error:0.1f}\")"
   ]
  },
  {
   "cell_type": "markdown",
   "metadata": {},
   "source": [
    "By masking appropriately, we can increase the signal-to-noise ratio substantially.\n",
    "\n",
    "However, be wary!  If, by masking, you exclude some pixels with signal from the star, you will measure its flux inaccurately!  You may end up with a _biased_ flux measurement, which can lead to erroneous conclusions!\n",
    "\n",
    "This masked measurement is still not the _optimal_ measurement you can make.  If you know precisely the shape of the PSF, you can perform _optimal extraction_ as part of _PSF photometry_.  We will not do that here, as it requires many additional steps, but we may come back later."
   ]
  },
  {
   "cell_type": "markdown",
   "metadata": {},
   "source": [
    "## Photometry - not just single-star!\n",
    "[Index](#Index)"
   ]
  },
  {
   "cell_type": "markdown",
   "metadata": {},
   "source": [
    "Now, we need to repeat that exercise for some other stars.  We'll be terser this time through:"
   ]
  },
  {
   "cell_type": "code",
   "execution_count": null,
   "metadata": {},
   "outputs": [],
   "source": [
    "cutout_star2 = sky_subtracted_pleiades_clear[240:260, 325:345, ]\n",
    "pl.figure(figsize=(14,6))\n",
    "im = pl.subplot(1,2,1).imshow(cutout_star2, cmap='gray', origin='lower')\n",
    "pl.xlabel(\"Cutout X-position relative to X=325\")\n",
    "pl.ylabel(\"Cutout Y-position relative to Y=240\")\n",
    "pl.colorbar(im)\n",
    "_=pl.subplot(1,2,2).hist(cutout_star2.ravel(), bins=50)\n",
    "_=pl.xlabel(\"Pixel Value\")\n",
    "_=pl.ylabel(\"Number of Pixels\")"
   ]
  },
  {
   "cell_type": "code",
   "execution_count": null,
   "metadata": {},
   "outputs": [],
   "source": [
    "print(f\"Star 2 measurement is {cutout_star2.sum():0.1f} +/- {(cutout_star2+sky_stddev**2).sum()**0.5:0.1f}\"\n",
    "      f\"(SNR = {cutout_star2.sum()/(cutout_star2+sky_stddev**2).sum()**0.5:0.1f})\")"
   ]
  },
  {
   "cell_type": "code",
   "execution_count": null,
   "metadata": {},
   "outputs": [],
   "source": [
    "mask2 = cutout_star2 > 2*sky_stddev\n",
    "masked_star_sum2 = cutout_star2[mask2].sum()\n",
    "masked_star_sum_error2 = (cutout_star2[mask2].sum() + sky_stddev**2*mask2.sum())**0.5\n",
    "print(f\"Masked measurement for star 2 is {masked_star_sum2:0.1f} +/- {masked_star_sum_error2:0.1f}\"\n",
    "      f\" for SNR={masked_star_sum2/masked_star_sum_error2:0.1f}\")"
   ]
  },
  {
   "cell_type": "markdown",
   "metadata": {},
   "source": [
    "## Exercise: Obtain flux measurements for two more stars\n",
    "\n",
    "[Index](#Index)\n",
    "\n",
    "Follow the process described above to obtain flux measurements for two additional stars.  Identify them yourself from the image and print out the measurement and the signal-to-noise ratio as we did above.\n",
    "\n",
    "Compare the SNR you obtain for your star to the SNR we obtained above.  Is it what you expect?  (Hint: we expect a higher signal-to-noise ratio for a brighter star in the same image)"
   ]
  },
  {
   "cell_type": "code",
   "execution_count": null,
   "metadata": {},
   "outputs": [],
   "source": [
    "# students should fill out several cells here"
   ]
  },
  {
   "cell_type": "code",
   "execution_count": null,
   "metadata": {},
   "outputs": [],
   "source": []
  },
  {
   "cell_type": "markdown",
   "metadata": {},
   "source": [
    "## Programming more efficiently\n",
    "[Index](#Index)"
   ]
  },
  {
   "cell_type": "markdown",
   "metadata": {},
   "source": [
    "An earlier version of this notebook included some typos in one of the cells above.  I had `cutout_star2[mask]` instead of `cutout_star2[mask2]`.  \n",
    "\n",
    "This is the sort of programming error that occurs frequently when you copy and paste code.  Generally, if you're copying and pasting, there's a better way!"
   ]
  },
  {
   "cell_type": "markdown",
   "metadata": {},
   "source": [
    "One of the most important programming concepts is `functions`.  These are, very coarsely and broadly, ways to effectively copy & paste code without copying & pasting.\n",
    "\n",
    "If you have any operation that you want to repeat exactly, or repeat changing only a small thing (say, a coordinate...), you can write a function to do that."
   ]
  },
  {
   "cell_type": "markdown",
   "metadata": {},
   "source": [
    "In  this case, we want a function to measure the star's flux and the error on the star's flux.   We can do this by... well, copying and pasting what we did at first, but now generalizing.\n",
    "\n",
    "The function will take some inputs and give some outputs.  It helps to start by defining what those are (though we can modify that as we go).  We know we want the two measured values, so we can start with those:\n",
    "\n",
    "```\n",
    "def calculate_star_flux_and_error(inputs):\n",
    "    return masked_star_sum, masked_star_sum_error\n",
    "```"
   ]
  },
  {
   "cell_type": "markdown",
   "metadata": {},
   "source": [
    "Once we know what we want, we can work backwards to see what we need to do to get it.  We need to have the _cutout_ and the _mask_:\n",
    "\n",
    "```\n",
    "def calculate_star_flux_and_error(inputs):\n",
    "    mask = cutout_star > 2*sky_stddev\n",
    "    masked_star_sum = cutout_star[mask].sum()\n",
    "    masked_star_sum_error = (cutout_star[mask].sum() + sky_stddev**2*mask.sum())**0.5\n",
    " \n",
    "    return masked_star_sum, masked_star_sum_error\n",
    "```"
   ]
  },
  {
   "cell_type": "markdown",
   "metadata": {},
   "source": [
    "So what variables does the function need?  The undefined ones: at least the `sky_stddev` and the `cutout_star`.  However, both of these are derived from the parent image: really, we only need the parent image, then we can calculate both.\n",
    "\n",
    "This is how we calculated the cutout and the stddev:\n",
    "```\n",
    "    cutout_star = pleiades_clear_darksub_flattened[158:178, 492:512]\n",
    "\n",
    "    sky_stddev = pleiades_clear_darksub_flattened.std()\n",
    "```\n"
   ]
  },
  {
   "cell_type": "markdown",
   "metadata": {},
   "source": [
    "We can give those as inputs to the function, and now we have a working function:"
   ]
  },
  {
   "cell_type": "code",
   "execution_count": null,
   "metadata": {},
   "outputs": [],
   "source": [
    "def calculate_star_flux_and_error(cutout_star, sky_stddev):\n",
    "\n",
    "    mask = cutout_star > 2*sky_stddev\n",
    "    masked_star_sum = cutout_star[mask].sum()\n",
    "    masked_star_sum_error = (cutout_star[mask].sum() + sky_stddev**2*mask.sum())**0.5\n",
    " \n",
    "    return masked_star_sum, masked_star_sum_error"
   ]
  },
  {
   "cell_type": "code",
   "execution_count": null,
   "metadata": {},
   "outputs": [],
   "source": [
    "calculate_star_flux_and_error(cutout_star, sky_stddev)"
   ]
  },
  {
   "cell_type": "markdown",
   "metadata": {},
   "source": [
    "Now that we have this function, it's pretty easy to repeat our measurement for the second star:"
   ]
  },
  {
   "cell_type": "code",
   "execution_count": null,
   "metadata": {},
   "outputs": [],
   "source": [
    "calculate_star_flux_and_error(cutout_star2, sky_stddev)"
   ]
  },
  {
   "cell_type": "markdown",
   "metadata": {},
   "source": [
    "# Exercise: Use the function to repeat the exercise on another two stars\n",
    "[Index](#Index)"
   ]
  },
  {
   "cell_type": "code",
   "execution_count": null,
   "metadata": {},
   "outputs": [],
   "source": []
  }
 ],
 "metadata": {
  "kernelspec": {
   "display_name": "Python 3",
   "language": "python",
   "name": "python3"
  },
  "language_info": {
   "codemirror_mode": {
    "name": "ipython",
    "version": 3
   },
   "file_extension": ".py",
   "mimetype": "text/x-python",
   "name": "python",
   "nbconvert_exporter": "python",
   "pygments_lexer": "ipython3",
   "version": "3.8.5"
  }
 },
 "nbformat": 4,
 "nbformat_minor": 4
}
