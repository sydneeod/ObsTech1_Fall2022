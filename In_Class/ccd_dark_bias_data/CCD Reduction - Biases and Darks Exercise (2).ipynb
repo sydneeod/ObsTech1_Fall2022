{
 "cells": [
  {
   "cell_type": "markdown",
   "metadata": {},
   "source": [
    "# CCD Data Reduction: Part 1, darks & biases\n",
    "\n",
    "In this notebook, we will go through the process of CCD data reduction for a fixed set of files."
   ]
  },
  {
   "cell_type": "markdown",
   "metadata": {},
   "source": [
    "Goals:\n",
    "\n",
    "1. Learn how to load, examine, and visualize FITS files using astropy\n",
    "2. Learn how to use python tools to estimate statistical parameters: mean (average), standard deviation\n",
    "3. Practice using these python tools on both single files and data sets"
   ]
  },
  {
   "cell_type": "markdown",
   "metadata": {},
   "source": [
    "# Index\n",
    "\n",
    " * [#1. Inspect Biases](#1.-Inspect-an-image:-Bias) - mostly guided work, you will run cells & read\n",
    "   * [Show an image with improved contrast](#Show-an-image-with-improved-contrast)\n",
    "   * [Zoom in on a hot pixel](#Zooming-in-on-a-hot-pixel) student exercise\n",
    "   * [Examining Histograms](#Examining-Histograms)\n",
    "   * [Masking](#Masking)\n",
    "   * [Gaussian Distribution](#Gaussian-distribution)\n",
    "   * [Noise Estimation](#Noise-Estimation)\n",
    "   * [Header Loading](#Header-Loading-Aside) student exercise\n",
    "   * [Multiple Exposures -> Time Series Cube](#Multiple-Exposures-as-a-\"Time-Series\"-Data-Cube)\n",
    "   * [Mean of the Mean](#The-mean-of-the-mean)\n",
    "   * [Robust Statistics](#Robust-Statistics)\n",
    " * [#2. Inspect Darks](#2.-Inspect-an-image:-Dark-Frame) - student work: you fill in the blanks\n",
    "   * [Dark Frame Questions](#Dark-Frame-Questions)\n",
    "   * [Dark Current Rate](#Dark-Current-Rate)\n",
    "   * [vmin, vmax](#Student-Question:-vmin,-vmax)\n",
    "   * [Bias-subtracted dark statistics](#Bias-subtracted-Dark-Stats)\n",
    "   * [Noise estimate from dark stack](#Noise-estimate-from-dark-stack)\n",
    " * [#3. Image Inspection](#3.-Inspect-some-on-sky-data)"
   ]
  },
  {
   "cell_type": "markdown",
   "metadata": {},
   "source": [
    "The first step is to get the data in the right place.  Running the following cell will show you where you are.  `os` stands for \"operating system\", and `getcwd` is short for \"get current working directory\""
   ]
  },
  {
   "cell_type": "code",
   "execution_count": null,
   "metadata": {},
   "outputs": [],
   "source": [
    "import os\n",
    "print(os.getcwd())"
   ]
  },
  {
   "cell_type": "markdown",
   "metadata": {},
   "source": [
    "Download your FITS files from the Canvas page and move them to the directory above.  You can do this using either the filesystem tools for your OS (e.g., Finder on mac, Windows Explorer on windows), or you can do it directly here.  For example, you might do:\n",
    "\n",
    "```\n",
    "%%bash\n",
    "mv ~/Downloads/*.FIT . \n",
    "```\n",
    "\n",
    "to move all files from your `~/Downloads` directory to the current directory (`.` and `cwd` are shorthand for the current working directory).  \n",
    "\n",
    "Note that `~` is shorthand for your user directory, e.g., `/Users/adam` on Mac or `C:\\Users\\adam` on Windows.  \n",
    "\n",
    "`*` is a wildcard that matches anything."
   ]
  },
  {
   "cell_type": "markdown",
   "metadata": {},
   "source": [
    "Verify that the expected files are all here using `ls *.FIT`.  You should see 11 bias files, `bias_00[1-9].FIT` & `bias_010.FIT`, and 30 dark files, `dark_10s_0[0-3][0-9].FIT`:"
   ]
  },
  {
   "cell_type": "code",
   "execution_count": null,
   "metadata": {},
   "outputs": [],
   "source": [
    "import glob\n",
    "glob.glob(\"*.FIT\")"
   ]
  },
  {
   "cell_type": "markdown",
   "metadata": {},
   "source": [
    "# 1. Inspect an image: Bias\n",
    "\n",
    "The first step is to look at an image and see what it contains.  We do this using [astropy's FITS reader](https://docs.astropy.org/en/stable/io/fits/) and matplotlib ([example](http://learn.astropy.org/rst-tutorials/FITS-images.html))."
   ]
  },
  {
   "cell_type": "code",
   "execution_count": null,
   "metadata": {},
   "outputs": [],
   "source": [
    "import matplotlib.pyplot as plt\n",
    "plt.rcParams['image.origin'] = 'lower' # this is needed to have 0,0 in the lower left\n",
    "plt.rcParams['image.interpolation'] = 'none' # this makes pixels less blurry\n",
    "# OPTIONAL: if you want to use a different stylesheet, use this line:\n",
    "#plt.style.use('dark_background')\n",
    "from astropy.io import fits"
   ]
  },
  {
   "cell_type": "code",
   "execution_count": null,
   "metadata": {},
   "outputs": [],
   "source": [
    "bias_fn = 'bias_001.FIT'\n",
    "data = fits.getdata(bias_fn)"
   ]
  },
  {
   "cell_type": "code",
   "execution_count": null,
   "metadata": {},
   "outputs": [],
   "source": [
    "plt.imshow(data)\n",
    "plt.colorbar()\n",
    "_=plt.xlabel(\"Pixel X Coordinate\")\n",
    "_=plt.ylabel(\"Pixel Y Coordinate\")"
   ]
  },
  {
   "cell_type": "markdown",
   "metadata": {},
   "source": [
    "Simply showing the image isn't enough, we also need to scale it so that there is reasonable contrast within the image, and we'd like it to be big enough that we can see each pixel clearly."
   ]
  },
  {
   "cell_type": "code",
   "execution_count": null,
   "metadata": {},
   "outputs": [],
   "source": [
    "plt.figure(figsize=(14,10))\n",
    "plt.imshow(data)\n",
    "plt.colorbar()\n",
    "_=plt.xlabel(\"Pixel X Coordinate\")\n",
    "_=plt.ylabel(\"Pixel Y Coordinate\")"
   ]
  },
  {
   "cell_type": "markdown",
   "metadata": {},
   "source": [
    "## Show an image with improved contrast\n",
    "\n",
    "[Index](#Index)\n",
    "\n",
    "The astropy visualization toolkit helps us improve the contrast by using a different data stretch."
   ]
  },
  {
   "cell_type": "code",
   "execution_count": null,
   "metadata": {},
   "outputs": [],
   "source": [
    "from astropy import visualization"
   ]
  },
  {
   "cell_type": "code",
   "execution_count": null,
   "metadata": {},
   "outputs": [],
   "source": [
    "plt.figure(figsize=(14,10))\n",
    "plt.imshow(data, norm=visualization.simple_norm(data, stretch='asinh'))\n",
    "plt.colorbar()\n",
    "_=plt.xlabel(\"Pixel X Coordinate\")\n",
    "_=plt.ylabel(\"Pixel Y Coordinate\")"
   ]
  },
  {
   "cell_type": "markdown",
   "metadata": {},
   "source": [
    "There are two notable features in this image:\n",
    "1. There is a gradient from left to right, with the left being brighter.\n",
    "2. There is a hot pixel.  How can we identify it?\n",
    "\n",
    "### Zooming in on a hot pixel\n",
    "\n",
    "[Index](#Index)\n",
    "\n",
    "\n",
    "Since it's the brightest pixel in the image, we can simply find the maximum value, and then find out where that maximum value is:"
   ]
  },
  {
   "cell_type": "code",
   "execution_count": null,
   "metadata": {},
   "outputs": [],
   "source": [
    "print(\"Brightest value:\", data.max())\n",
    "print(\"Location of brightest value:\", data.argmax())"
   ]
  },
  {
   "cell_type": "markdown",
   "metadata": {},
   "source": [
    "You'll note that the pixel number above is in the 100,000's, but our image is only 765x510 (numpy arrays use reverse-ordered indexing, so it is (y,x) instead of (x,y)):"
   ]
  },
  {
   "cell_type": "code",
   "execution_count": null,
   "metadata": {},
   "outputs": [],
   "source": [
    "data.shape"
   ]
  },
  {
   "cell_type": "markdown",
   "metadata": {},
   "source": [
    "That coordinate, 236248, is telling you that the brightest pixel is the 236248th pixel, in order, if you lay out the whole array in a line. But, we want to know where that pixel is in two dimensions, not one.\n",
    "\n",
    "To find the location in x,y coordinates, we use a numpy tool:"
   ]
  },
  {
   "cell_type": "code",
   "execution_count": null,
   "metadata": {},
   "outputs": [],
   "source": [
    "import numpy as np"
   ]
  },
  {
   "cell_type": "code",
   "execution_count": null,
   "metadata": {},
   "outputs": [],
   "source": [
    "print(\"y,x coordinates of the brightest pixel:\", np.unravel_index(data.argmax(), data.shape))"
   ]
  },
  {
   "cell_type": "markdown",
   "metadata": {},
   "source": [
    "Describe in your own words: what did `unravel_index` do?\n",
    "\n",
    "-student answer-"
   ]
  },
  {
   "cell_type": "markdown",
   "metadata": {},
   "source": [
    "We can then \"zoom in\" to that part of the image by \"slicing\" out a chunk of the `data` array:"
   ]
  },
  {
   "cell_type": "code",
   "execution_count": null,
   "metadata": {},
   "outputs": [],
   "source": [
    "plt.figure(figsize=(14,10))\n",
    "# we pick a \"slice\" from (y-8) to (y+8) and from (x-8) to (x+8)\n",
    "plt.imshow(data[300:316, 620:636], cmap='inferno')\n",
    "plt.colorbar()\n",
    "_=plt.xlabel(\"Pixel X Coordinate (+620)\")\n",
    "_=plt.ylabel(\"Pixel Y Coordinate (+300)\")"
   ]
  },
  {
   "cell_type": "markdown",
   "metadata": {},
   "source": [
    "### Examining Histograms\n",
    "\n",
    "[Index](#Index)\n",
    "\n",
    "We need to know something about the _distribution_ of pixel brightnesses beyond just where they are.  We can look at this distribution using a histogram."
   ]
  },
  {
   "cell_type": "code",
   "execution_count": null,
   "metadata": {},
   "outputs": [],
   "source": [
    "# the \"ravel\" method turns the 2D data image into a 1D list of values.\n",
    "# we use it here because of the syntax requirements of the `hist` function\n",
    "histresult = plt.hist(data.ravel(), bins=50)\n",
    "_=plt.xlabel(\"Pixel Value\")\n",
    "_=plt.ylabel(\"Number of Pixels\")"
   ]
  },
  {
   "cell_type": "markdown",
   "metadata": {},
   "source": [
    "Note that the above histogram shows a broad range along the X-axis, but most of the pixels are in a narrow range.  The hot pixel is an _outlier_ from this distribution.\n",
    "\n",
    "We can see this more clearly by log-scaling the histogram"
   ]
  },
  {
   "cell_type": "code",
   "execution_count": null,
   "metadata": {},
   "outputs": [],
   "source": [
    "histresult = plt.hist(data.ravel(), bins=50, log=True)\n",
    "_=plt.xlabel(\"Pixel Value\")\n",
    "_=plt.ylabel(\"Number of Pixels\")"
   ]
  },
  {
   "cell_type": "markdown",
   "metadata": {},
   "source": [
    "We can re-make this histogram excluding the outlier using a \"masking\" approach."
   ]
  },
  {
   "cell_type": "code",
   "execution_count": null,
   "metadata": {},
   "outputs": [],
   "source": [
    "# first, we create a mask that excludes the bad data\n",
    "# this is a \"boolean array\" of True and False values\n",
    "# it will be True everywhere except on the one hot pixel, where it will be False\n",
    "mask = data < 1800\n",
    "# then, we re-histogram selecting the \"good\" data\n",
    "histresult = plt.hist(data[mask].ravel(), bins=50)\n",
    "_=plt.xlabel(\"Pixel Value\")\n",
    "_=plt.ylabel(\"Number of Pixels\")"
   ]
  },
  {
   "cell_type": "markdown",
   "metadata": {},
   "source": [
    "### Masking\n",
    "\n",
    "[Index](#Index)\n",
    "\n",
    "What did that line, `mask = data < 1800` do exactly?  It created a new array in which the number of pixels are the same as in ``data``, but now each pixel has a value of either True or False.\n",
    "\n",
    "We can look at the mask, and see that it is mostly True (`True` will be yellow, `False` will be purple, by default).  You should be able to see one purple pixel at least:"
   ]
  },
  {
   "cell_type": "code",
   "execution_count": null,
   "metadata": {},
   "outputs": [],
   "source": [
    "plt.figure(figsize=(14,14))\n",
    "plt.imshow(mask)"
   ]
  },
  {
   "cell_type": "markdown",
   "metadata": {},
   "source": [
    "When we index the data with `data[mask]`, we get back an array that includes the pixel value if the mask was `True` at that pixel, and does not include the pixel value if the mask was `False` at that pixel.\n",
    "\n",
    "We can \"invert the mask\" and switch True to False and False to True with the `~` operator.  This lets us see the value of our outlier (in this case, there's only one):"
   ]
  },
  {
   "cell_type": "code",
   "execution_count": null,
   "metadata": {},
   "outputs": [],
   "source": [
    "data[~mask]"
   ]
  },
  {
   "cell_type": "markdown",
   "metadata": {},
   "source": [
    "## Gaussian distribution\n",
    "\n",
    "[Index](#Index)\n"
   ]
  },
  {
   "cell_type": "markdown",
   "metadata": {},
   "source": [
    "Our bias image has a gradient in it, as you could see above, so its noise distribution does not look like a Gaussian.   Instead, it has a tail.  We can see this by over-plotting a Gaussian function with a reasonable estimate for the location parameters.\n",
    "\n",
    "The Gaussian function is:\n",
    "\n",
    "$$\n",
    "f(x) = \\frac{1}{\\sigma \\sqrt{2 \\pi }} e^{-(x-x_0)^2 / (2 \\sigma^2)}\n",
    "$$"
   ]
  },
  {
   "cell_type": "code",
   "execution_count": null,
   "metadata": {},
   "outputs": [],
   "source": [
    "# this part repeats the histogram-making above\n",
    "mask = data < 1800\n",
    "histresult = plt.hist(data[mask].ravel(), bins=50)\n",
    "\n",
    "# 'linspace' makes an array of (175) evenly-spaced points from the lower (1000) to upper (1175) value\n",
    "x = np.linspace(1000, 1175, 175)\n",
    "sigma = 15 # I guessed this value by eye\n",
    "x0 = 1075 # I guessed this too\n",
    "# compute the Gaussian function:\n",
    "y = 1/(sigma*(2*np.pi)**0.5) * np.exp(-(x-x0)**2/(2*sigma**2))\n",
    "scale = 900000 # we need to multiply by a scale factor to see the curve; this number is arbitrary\n",
    "plt.plot(x, y*scale)\n",
    "_=plt.xlabel(\"Pixel Value\")\n",
    "_=plt.ylabel(\"Number of Pixels\")"
   ]
  },
  {
   "cell_type": "markdown",
   "metadata": {},
   "source": [
    "You can see from the above curve that there is something like a \"skewed Gaussian\" distribution in the data: the Gaussian curve fits most of the data, but there's a tail out to the right side.\n",
    "\n",
    "Because of this tail, our noise estimates on the data won't be exactly right, but we can make them anyway."
   ]
  },
  {
   "cell_type": "markdown",
   "metadata": {},
   "source": [
    "### Noise Estimation\n",
    "\n",
    "[Index](#Index)\n",
    "\n",
    "We estimate the noise by taking the _standard deviation_ of the data.  If the bias were uniform, the standard deviation of our image would represent a measurement of the _read noise_ plus the intrinsic pixel-to-pixel variation.  If the pixel-to-pixel variation is small, the read noise would then be the only contributor to the measurement."
   ]
  },
  {
   "cell_type": "markdown",
   "metadata": {},
   "source": [
    "(`ddof` is the degrees of freedom.  This is a statistical correction for the fact that we're estimating the mean and the variation around the mean from the same data)"
   ]
  },
  {
   "cell_type": "code",
   "execution_count": null,
   "metadata": {},
   "outputs": [],
   "source": [
    "print(\"Estimated read noise + pixel-to-pixel variation (without accounting for gradient):\", data[mask].std(ddof=1))"
   ]
  },
  {
   "cell_type": "markdown",
   "metadata": {},
   "source": [
    "The `std` method gives us the standard deviation of the data, and it suggests that the noise is about 19 counts."
   ]
  },
  {
   "cell_type": "markdown",
   "metadata": {},
   "source": [
    "However, now we need to explore another way to estimate the readnoise."
   ]
  },
  {
   "cell_type": "markdown",
   "metadata": {},
   "source": [
    "We have many bias images.  We can combine them to obtain a direct estimate of the readnoise, independent of the pixel-to-pixel variation.\n",
    "\n",
    "Each bias image is the same.  The only difference between the images will be read noise.  That means we can estimate the noise on a pixel-by-pixel basis, but by comparing each pixel to itself over many measurements."
   ]
  },
  {
   "cell_type": "markdown",
   "metadata": {},
   "source": [
    "We start by verifying that our bias images are all taken under the same conditions.  We can do this by looking at their FITS headers to make sure they have the same exposure time."
   ]
  },
  {
   "cell_type": "code",
   "execution_count": null,
   "metadata": {},
   "outputs": [],
   "source": [
    "# the \"glob\" module lets us store the results of wildcard searches into python variables\n",
    "import glob\n",
    "bias_file_list = glob.glob(\"bias*FIT\")\n",
    "print(\"There are\",len(bias_file_list),\"bias images\")\n",
    "print(bias_file_list)"
   ]
  },
  {
   "cell_type": "markdown",
   "metadata": {},
   "source": [
    "We use `for` loops to loop over the entries in a list.  This example will print relevant information - the exposure time and CCD temperature - for each \"bias\" image."
   ]
  },
  {
   "cell_type": "code",
   "execution_count": null,
   "metadata": {},
   "outputs": [],
   "source": [
    "for filename in bias_file_list:\n",
    "    header = fits.getheader(filename)\n",
    "    print(filename, header['EXPTIME'], header['CCD-TEMP'])"
   ]
  },
  {
   "cell_type": "markdown",
   "metadata": {},
   "source": [
    "By inspecting the headers above, we see that we have 10 bias images to work with.\n",
    "\n",
    "Note that these \"bias\" images are not strictly bias images; they are technically 0.04 second Dark frames.  In 0.04 seconds, we probably will not accrue much dark current, but there might be some small dark current contribution."
   ]
  },
  {
   "cell_type": "markdown",
   "metadata": {},
   "source": [
    "#### Header Loading Aside\n",
    "\n",
    "[Index](#Index)\n",
    "\n",
    "(aside: how do we inspect headers?  How did I know to use the `'EXPTIME'` keyword?  `fits.getheader` loads a header from a file.  In the cell below, load a header from any file and see what it looks like:)"
   ]
  },
  {
   "cell_type": "code",
   "execution_count": null,
   "metadata": {},
   "outputs": [],
   "source": [
    "# STUDENT ACTIVITY:\n",
    "# Use `fits.getheader` to read the header from a .FIT file and show the header contents\n",
    "header = fits.getheader(...)\n",
    "header"
   ]
  },
  {
   "cell_type": "markdown",
   "metadata": {},
   "source": [
    "Because these came from the same CCD, they all have the same dimensions.\n",
    "\n",
    "\n",
    "## Multiple Exposures as a \"Time Series\" Data Cube\n",
    "\n",
    "[Index](#Index)\n",
    "\n",
    "We can therefore stack up their data into a \"data cube\" that will effectively be a time series: two dimensions are pixel dimensions (x, y), while the third (z) is time; we took each image at a different time, and that's the only thing that changed."
   ]
  },
  {
   "cell_type": "code",
   "execution_count": null,
   "metadata": {},
   "outputs": [],
   "source": [
    "# the `fits.getdata` function loads data from a fits file\n",
    "# np.array() converts an input to an array\n",
    "# the \"inline for loop\" is the really important part here, though:\n",
    "# we are loading one image for each file name in the bias_file_list we made above\n",
    "bias_timeseries = np.array([fits.getdata(fn) for fn in bias_file_list])"
   ]
  },
  {
   "cell_type": "code",
   "execution_count": null,
   "metadata": {},
   "outputs": [],
   "source": [
    "print(bias_timeseries.shape)"
   ]
  },
  {
   "cell_type": "markdown",
   "metadata": {},
   "source": [
    "The data structure `bias_timeseries` is now an array of ten images that are each the same size."
   ]
  },
  {
   "cell_type": "markdown",
   "metadata": {},
   "source": [
    "We can perform statistics along the time axis (the array is in `z,y,x` shape, so `z` is the time axis).  To see what this means, we can look at what the time series data looks like for a single pixel.\n",
    "\n",
    "In the example below, we plot the time series for pixel x=150, y=100:"
   ]
  },
  {
   "cell_type": "code",
   "execution_count": null,
   "metadata": {},
   "outputs": [],
   "source": [
    "_=plt.plot(bias_timeseries[:,100,150], marker='o')\n",
    "_=plt.xlabel(\"Frame Number\")\n",
    "_=plt.ylabel(\"Pixel Value\")"
   ]
  },
  {
   "cell_type": "markdown",
   "metadata": {},
   "source": [
    "We can take statistics of this pixel to see what the mean and standard deviation are:"
   ]
  },
  {
   "cell_type": "code",
   "execution_count": null,
   "metadata": {},
   "outputs": [],
   "source": [
    "print(\"Mean =\",bias_timeseries[:,100,150].mean(), \" Standard deviation =\",bias_timeseries[:,100,150].std(ddof=1))"
   ]
  },
  {
   "cell_type": "markdown",
   "metadata": {},
   "source": [
    "So we see that our bias is about 1092.5 +/- 12.2 counts."
   ]
  },
  {
   "cell_type": "markdown",
   "metadata": {},
   "source": [
    "To repeat this measurement for _every_ pixel, we obtain the statistics along an axis:"
   ]
  },
  {
   "cell_type": "code",
   "execution_count": null,
   "metadata": {},
   "outputs": [],
   "source": [
    "bias_mean_image = bias_timeseries.mean(axis=0)\n",
    "bias_std_image = bias_timeseries.std(axis=0, ddof=1)"
   ]
  },
  {
   "cell_type": "markdown",
   "metadata": {},
   "source": [
    "Take a moment to appreciate the above line.  It just did a _lot_ of things all at once:\n",
    "\n",
    "* it calculated the mean of 10 exposures for each of 765 * 510 = 390150 pixels\n",
    "* it calculated the standard deviation of 10 exposures for each pixel\n",
    "* it stored the results of each into an image array of the same shape as the inputs\n",
    "\n",
    "This array arithmetic - doing the same operations on millions of pixels all at once - is at the heart of image analysis.  Computers can do this sort of thing very fast, and they have to."
   ]
  },
  {
   "cell_type": "markdown",
   "metadata": {},
   "source": [
    "We then inspect these as images, as before.  The mean image looks just like the original data image:"
   ]
  },
  {
   "cell_type": "code",
   "execution_count": null,
   "metadata": {},
   "outputs": [],
   "source": [
    "plt.figure(figsize=(14,10))\n",
    "plt.imshow(bias_mean_image, norm=visualization.simple_norm(bias_mean_image, stretch='asinh'))\n",
    "plt.colorbar()\n",
    "_=plt.title(\"Mean of Bias Images\")\n",
    "_=plt.xlabel(\"Pixel X Coordinate\")\n",
    "_=plt.ylabel(\"Pixel Y Coordinate\")"
   ]
  },
  {
   "cell_type": "markdown",
   "metadata": {},
   "source": [
    "However, the standard deviation image looks quite different: it's now nearly the same everywhere, the only thing left in the image is (read) noise:"
   ]
  },
  {
   "cell_type": "code",
   "execution_count": null,
   "metadata": {},
   "outputs": [],
   "source": [
    "plt.figure(figsize=(14,10))\n",
    "plt.imshow(bias_std_image, norm=visualization.simple_norm(bias_std_image, stretch='asinh'))\n",
    "plt.colorbar()\n",
    "_=plt.title(\"Standard Deviation of Bias Images\")\n",
    "_=plt.xlabel(\"Pixel X Coordinate\")\n",
    "_=plt.ylabel(\"Pixel Y Coordinate\")"
   ]
  },
  {
   "cell_type": "markdown",
   "metadata": {},
   "source": [
    "Each value in the `bias_std_image` map is an independent measurement of the read noise from the detector.  Let's look at some values, including our x,y=150,100 and at the hot pixel:"
   ]
  },
  {
   "cell_type": "code",
   "execution_count": null,
   "metadata": {},
   "outputs": [],
   "source": [
    "print(\"Estimate of read noise at 150,100:\",bias_std_image[100,150],\"and at y,x=(308, 628)\", bias_std_image[308,628])"
   ]
  },
  {
   "cell_type": "markdown",
   "metadata": {},
   "source": [
    "## The mean of the mean\n",
    "\n",
    "[Index](#Index)\n",
    "\n",
    "To get the best estimate of the average read noise, we can take the average *over all pixels* of our standard deviation *measured across time samples*:"
   ]
  },
  {
   "cell_type": "code",
   "execution_count": null,
   "metadata": {},
   "outputs": [],
   "source": [
    "mean_readnoise = bias_std_image.mean()\n",
    "print(\"The mean readnoise over all pixels =\",mean_readnoise)"
   ]
  },
  {
   "cell_type": "markdown",
   "metadata": {},
   "source": [
    "Similarly, we can compute the average bias (again, averaging over all pixels in the CCD):"
   ]
  },
  {
   "cell_type": "code",
   "execution_count": null,
   "metadata": {},
   "outputs": [],
   "source": [
    "mean_bias = bias_mean_image.mean()\n",
    "print(\"mean bias =\",mean_bias)"
   ]
  },
  {
   "cell_type": "markdown",
   "metadata": {},
   "source": [
    "So we have obtained an average bias of 1080 and an average read noise of 10.6.\n",
    "\n",
    "## Robust Statistics\n",
    "\n",
    "[Index](#Index)\n",
    "\n",
    "\n",
    "However, the distribution function shown above was a _skewed_ Gaussian, which means our estimate of the mean and standard deviation are biased.  To account for such issues, we can employ _robust statistics_ to obtain better estimates.  \"Robust statistics\" are statitical estimates that are robust against outliers, i.e., adding in a few outliers does not substantially affect the estimate.\n",
    "\n",
    "One example robust estimator is the _median_, which is very good at approximating the _mean_:"
   ]
  },
  {
   "cell_type": "code",
   "execution_count": null,
   "metadata": {},
   "outputs": [],
   "source": [
    "median_bias = np.median(bias_mean_image)\n",
    "print(\"Median bias level across the image =\",median_bias)\n",
    "median_readnoise = np.median(bias_std_image)\n",
    "print(\"Median standard deviation level across the image =\",median_readnoise)"
   ]
  },
  {
   "cell_type": "markdown",
   "metadata": {},
   "source": [
    "We can look at the histogram of the read noise estimates (`bias_std_image`).  In this case, they are very similar:"
   ]
  },
  {
   "cell_type": "code",
   "execution_count": null,
   "metadata": {},
   "outputs": [],
   "source": [
    "histresult = plt.hist(bias_std_image.ravel(), bins=50, log=True)\n",
    "# plot a vertical line at the median, then at the mean\n",
    "plt.vlines(median_readnoise, 1, 1e5, linestyle='--')\n",
    "plt.vlines(mean_readnoise, 1, 1e5, linestyle=':')\n",
    "plt.title(\"Read noise estimates (per-pixel bias standard deviation)\")\n",
    "_=plt.xlabel(\"Pixel Value\")\n",
    "_=plt.ylabel(\"Number of Pixels\")"
   ]
  },
  {
   "cell_type": "markdown",
   "metadata": {},
   "source": [
    "For the bias value, the mean and median are quite different: the pixels are not \"unimodel\", they have a broad, non-Gaussian distribution."
   ]
  },
  {
   "cell_type": "code",
   "execution_count": null,
   "metadata": {},
   "outputs": [],
   "source": [
    "# we will re-make the mask we used to exclude outliers\n",
    "mask = bias_mean_image < 1800\n",
    "histresult = plt.hist(bias_mean_image[mask], bins=50, log=True)\n",
    "# plot a vertical line at the median, then at the mean\n",
    "plt.vlines(median_bias, 1, 1e5, linestyle='--')\n",
    "plt.vlines(mean_bias, 1, 1e5, linestyle=':')\n",
    "plt.title(\"Mean bias values\")\n",
    "_=plt.xlabel(\"Pixel Value\")\n",
    "_=plt.ylabel(\"Number of Pixels\")"
   ]
  },
  {
   "cell_type": "markdown",
   "metadata": {},
   "source": [
    "# 2. Inspect an image: Dark Frame\n",
    "\n",
    "[Index](#Index)"
   ]
  },
  {
   "cell_type": "markdown",
   "metadata": {},
   "source": [
    "Next, we will look at our dark frames and see how they differ from the bias frames."
   ]
  },
  {
   "cell_type": "code",
   "execution_count": null,
   "metadata": {},
   "outputs": [],
   "source": [
    "# student entry here: first, load the data\n",
    "# Start with the first 10s dark image\n",
    "dark_fn = '<your answer here>' # put a filename in the quotes\n",
    "dark_data = <your answer here># then, load a FITS file's data as you've done above for the bias\n",
    "\n",
    "# note:your answers should be something like:\n",
    "# dark_fn = 'some_fits_fits.fits'\n",
    "# dark_data = some_function_to_get_fits_data(dark_fn)\n",
    "# in other words, use the variable dark_fn"
   ]
  },
  {
   "cell_type": "markdown",
   "metadata": {},
   "source": [
    "In the next cell, show the image as we did [above](#Show-an-image-with-improved-contrast) for the bias."
   ]
  },
  {
   "cell_type": "code",
   "execution_count": null,
   "metadata": {},
   "outputs": [],
   "source": [
    "# student entry here\n",
    "# then, display the data, just as with the bias above\n",
    "plt.figure(figsize=(14,10))\n",
    "plt.imshow(dark_data, norm=visualization.simple_norm(dark_data, stretch='asinh'))\n",
    "plt.colorbar()"
   ]
  },
  {
   "cell_type": "markdown",
   "metadata": {},
   "source": [
    "## Dark Frame Questions\n",
    "[Index](#Index)\n",
    "\n",
    "Use the code examples you saw above to answer these questions in the cells below\n",
    "\n",
    "1. Is there a hot pixel?  Where is it?  \n",
    "2. How long was the exposure?  Is the filename correct or misleading?\n",
    "3. What is the average value in our dark frame?\n",
    "4. What is the average dark current rate?  Note that you have to subtract the average bias to determine this.  You should use the _average_ dark current and _average_ bias for this."
   ]
  },
  {
   "cell_type": "code",
   "execution_count": null,
   "metadata": {},
   "outputs": [],
   "source": [
    "# student exercise: find the hot pixel (again, as done above for the bias image)\n",
    "- student work here - "
   ]
  },
  {
   "cell_type": "code",
   "execution_count": null,
   "metadata": {},
   "outputs": [],
   "source": [
    "# student exercise: find the exposure time from the FITS header\n",
    "# reminder: delete the <s and >s\n",
    "print(\"The exposure time of dark_10s_001.FIT is\", <your answer here>)"
   ]
  },
  {
   "cell_type": "code",
   "execution_count": null,
   "metadata": {},
   "outputs": [],
   "source": [
    "# student exercise: take the mean and median of the dark frame you loaded a minute ago\n",
    "# (from above, the dark frame's data should be in the variable `dark_data`)\n",
    "print(\"Mean value =\", <your answer here>)\n",
    "print(\"Median value =\", <your answer here>)"
   ]
  },
  {
   "cell_type": "markdown",
   "metadata": {},
   "source": [
    "You should get these values:\n",
    "\n",
    " * Mean value = 1095.2488222478535\n",
    " * Median value = 1092.0"
   ]
  },
  {
   "cell_type": "markdown",
   "metadata": {},
   "source": [
    "## Dark Current Rate\n",
    "[Index](#Index)\n",
    "\n",
    "In the next cell, you'll estimate the _rate_ of dark current accumulation.\n",
    "\n",
    "A rate is simply a number per time, so you need to calculate the number of dark counts and the exposure time.\n",
    "\n",
    "Dividing them will get you the dark rate."
   ]
  },
  {
   "cell_type": "code",
   "execution_count": null,
   "metadata": {},
   "outputs": [],
   "source": [
    "# student exercise: Determine the dark current and dark current rate\n",
    "# the goal is to use the values computed above (the mean dark current and the mean bias)\n",
    "# to obtain an estimate of the mean dark current and dark current rate\n",
    "<probably write a little code here>\n",
    "print(\"Dark current counts =\", <your answer here>)\n",
    "print(\"Dark rate (dark current / exposure time) =\", <your answer here>, \"counts per second\")"
   ]
  },
  {
   "cell_type": "markdown",
   "metadata": {},
   "source": [
    "You should get:\n",
    "\n",
    " * Average dark current counts = 15.132245033961453\n",
    " * Average dark rate = 1.5132245033961453 counts per second"
   ]
  },
  {
   "cell_type": "markdown",
   "metadata": {},
   "source": [
    "In the above exercise, you estimated the average dark current from the data.  However, we can do better by subtracting the bias pixel-by-pixel first.\n",
    "\n",
    "Let's start by seeing what the bias-subtracted dark looks like.  As long as the images are the same `shape` (which is always true if they come from the same CCD), we can subtract them from one another.\n",
    "\n",
    "The next several cells make images and guide you through some detailed image analysis."
   ]
  },
  {
   "cell_type": "code",
   "execution_count": null,
   "metadata": {},
   "outputs": [],
   "source": [
    "# Subtract two images\n",
    "# this means we will subtract each pixel's value in `bias_mean_image` from the corresponding value in `dark_data`\n",
    "bias_subtracted_dark = dark_data - bias_mean_image"
   ]
  },
  {
   "cell_type": "code",
   "execution_count": null,
   "metadata": {},
   "outputs": [],
   "source": [
    "plt.figure(figsize=(14,10))\n",
    "plt.imshow(bias_subtracted_dark, norm=visualization.simple_norm(bias_subtracted_dark, stretch='asinh'))\n",
    "plt.colorbar()\n",
    "_=plt.xlabel(\"Pixel X Coordinate\")\n",
    "_=plt.ylabel(\"Pixel Y Coordinate\")"
   ]
  },
  {
   "cell_type": "markdown",
   "metadata": {},
   "source": [
    "In the image above, we still have a pesky very bright outlier that is making our display look bad. \n",
    "\n",
    "\n",
    "To fix this, we need to know something about the _distribution_ of our data again"
   ]
  },
  {
   "cell_type": "code",
   "execution_count": null,
   "metadata": {},
   "outputs": [],
   "source": [
    "histresult = plt.hist(bias_subtracted_dark.ravel(), bins=50, log=True)\n",
    "_=plt.xlabel(\"Pixel Value\")\n",
    "_=plt.ylabel(\"Number of Pixels\")"
   ]
  },
  {
   "cell_type": "markdown",
   "metadata": {},
   "source": [
    "From the above plot, we can see that _almost_ all of the data are in the range [0,2000], but there's that one big outlier.  In fact, the vast majority of the data are below, say, 100.  Let's mask out the bad pixel and look closer."
   ]
  },
  {
   "cell_type": "code",
   "execution_count": null,
   "metadata": {},
   "outputs": [],
   "source": [
    "mask = bias_subtracted_dark < 8000\n",
    "histresult = plt.hist(bias_subtracted_dark[mask].ravel(), bins=50, log=True)\n",
    "_=plt.xlabel(\"Pixel Value\")\n",
    "_=plt.ylabel(\"Number of Pixels\")"
   ]
  },
  {
   "cell_type": "markdown",
   "metadata": {},
   "source": [
    "This new histogram, excluding our dramatic outlier, shows us that almost all of the data are below 200 counts.  We have only about 10-20 outliers above 200 (recall that $10^0 = 1$).  So let's zoom in once more:"
   ]
  },
  {
   "cell_type": "code",
   "execution_count": null,
   "metadata": {},
   "outputs": [],
   "source": [
    "mask = bias_subtracted_dark < 200\n",
    "histresult = plt.hist(bias_subtracted_dark[mask].ravel(), bins=50, log=True)\n",
    "_=plt.xlabel(\"Pixel Value\")\n",
    "_=plt.ylabel(\"Number of Pixels\")"
   ]
  },
  {
   "cell_type": "markdown",
   "metadata": {},
   "source": [
    "The above plot is a well-behaved, Gaussian-looking distribution with a small tail, which we can see if we plot it with a linear Y-axis again:"
   ]
  },
  {
   "cell_type": "code",
   "execution_count": null,
   "metadata": {},
   "outputs": [],
   "source": [
    "mask = bias_subtracted_dark < 200\n",
    "histresult = plt.hist(bias_subtracted_dark[mask].ravel(), bins=50)\n",
    "_=plt.xlabel(\"Pixel Value\")\n",
    "_=plt.ylabel(\"Number of Pixels\")"
   ]
  },
  {
   "cell_type": "markdown",
   "metadata": {},
   "source": [
    "We can now display the image with a more reasonable range of values.  I picked -30 to 50, as they're pretty close to the boundaries of where we expect to see any pixels: there are only a couple pixels above and below these values."
   ]
  },
  {
   "cell_type": "code",
   "execution_count": null,
   "metadata": {},
   "outputs": [],
   "source": [
    "plt.figure(figsize=(14,10))\n",
    "plt.imshow(bias_subtracted_dark, vmin=-30, vmax=50)\n",
    "plt.colorbar()\n",
    "_=plt.xlabel(\"Pixel X Coordinate\")\n",
    "_=plt.ylabel(\"Pixel Y Coordinate\")"
   ]
  },
  {
   "cell_type": "markdown",
   "metadata": {},
   "source": [
    "### Student Question: vmin, vmax\n",
    "[Index](#Index)\n",
    "\n",
    "What do the `imshow` arguments `vmin` and `vmax` do?\n",
    "\n",
    "`<your answer here>`"
   ]
  },
  {
   "cell_type": "markdown",
   "metadata": {},
   "source": [
    "Now we can see that the above image is a clean-looking noise frame.  There are a few outliers, but the mean value is constant across the image - there is no gradient.\n",
    "\n",
    "Since we saw a gradient in the bias image, but we don't see one in the dark minus bias image, we can infer that the gradient is in the bias - in other words, it's intrinsic to our CCD and will always be there no matter how short an exposure we take."
   ]
  },
  {
   "cell_type": "markdown",
   "metadata": {},
   "source": [
    "## Bias-subtracted Dark Stats\n",
    "[Index](#Index)\n",
    "\n",
    "Now we can compute some statistics about this bias-subtracted dark image.  \n",
    "\n",
    "What are the mean and median?"
   ]
  },
  {
   "cell_type": "code",
   "execution_count": null,
   "metadata": {},
   "outputs": [],
   "source": [
    "# student exercise: compute the mean and median of the bias-subtracted-dark\n",
    "print(\"Mean bias_subtracted_dark =\", <your answer here>)\n",
    "print(\"Median bias_subtracted_dark =\", <your answer here>)"
   ]
  },
  {
   "cell_type": "markdown",
   "metadata": {},
   "source": [
    "You should get:\n",
    "\n",
    "* Mean bias_subtracted_dark = 15.132245033961297\n",
    "* Median bias_subtracted_dark = 15.0"
   ]
  },
  {
   "cell_type": "markdown",
   "metadata": {},
   "source": [
    "These values are an estimate of the dark current obtained in this exposure, but they're a little different from the estimate obtained taking the mean of the dark minus the mean of the bias.\n",
    "\n",
    "What is the estimated dark current rate (counts per second) for these data?"
   ]
  },
  {
   "cell_type": "code",
   "execution_count": null,
   "metadata": {},
   "outputs": [],
   "source": [
    "# student exercise: What is the dark current rate estimated after bias subtraction?\n",
    "\n",
    "print(\"Rate estimate =\", <your answer here>)"
   ]
  },
  {
   "cell_type": "markdown",
   "metadata": {},
   "source": [
    "We can improve on this rate estimate by averaging over several dark images, like we did above with bias images."
   ]
  },
  {
   "cell_type": "code",
   "execution_count": null,
   "metadata": {},
   "outputs": [],
   "source": [
    "dark_file_list = glob.glob(\"dark_10s*FIT\")\n",
    "print(\"There are\",len(dark_file_list),\"dark images\")\n",
    "print(dark_file_list)"
   ]
  },
  {
   "cell_type": "code",
   "execution_count": null,
   "metadata": {},
   "outputs": [],
   "source": [
    "for filename in dark_file_list:\n",
    "    header = fits.getheader(filename)\n",
    "    print(filename, header['EXPTIME'], header['CCD-TEMP'])"
   ]
  },
  {
   "cell_type": "markdown",
   "metadata": {},
   "source": [
    "We have 29 dark images each with 10 second exposure times.\n",
    "\n",
    "We then load them into a time series like we did before with the bias images:"
   ]
  },
  {
   "cell_type": "code",
   "execution_count": null,
   "metadata": {},
   "outputs": [],
   "source": [
    "dark_timeseries = np.array([fits.getdata(fn) for fn in dark_file_list])\n",
    "dark_timeseries.shape"
   ]
  },
  {
   "cell_type": "markdown",
   "metadata": {},
   "source": [
    "We can again plot the dark values for some pixel:"
   ]
  },
  {
   "cell_type": "code",
   "execution_count": null,
   "metadata": {},
   "outputs": [],
   "source": [
    "plt.plot(dark_timeseries[:,100,150], 'o')\n",
    "_=plt.xlabel(\"Frame ID Number\")\n",
    "_=plt.ylabel(\"Pixel Value\")"
   ]
  },
  {
   "cell_type": "markdown",
   "metadata": {},
   "source": [
    "We calculate a noise image by taking the standard deviation in time:"
   ]
  },
  {
   "cell_type": "code",
   "execution_count": null,
   "metadata": {},
   "outputs": [],
   "source": [
    "dark_std = dark_timeseries.std(axis=0, ddof=1)\n",
    "dark_mean = dark_timeseries.mean(axis=0)"
   ]
  },
  {
   "cell_type": "code",
   "execution_count": null,
   "metadata": {},
   "outputs": [],
   "source": [
    "plt.figure(figsize=(14,10))\n",
    "plt.imshow(dark_std, norm=visualization.simple_norm(dark_std, stretch='asinh'))\n",
    "plt.colorbar()\n",
    "_=plt.xlabel(\"Pixel X Coordinate\")\n",
    "_=plt.ylabel(\"Pixel Y Coordinate\")"
   ]
  },
  {
   "cell_type": "markdown",
   "metadata": {},
   "source": [
    "Our hot pixel is causing problems, so let's chop it out semi-automatically using a `percentile` cut.  By setting `max_percent=99.95` below, we set the brightest pixel in the displayed stretch to be just a little bit fainter than the brightest pixel."
   ]
  },
  {
   "cell_type": "code",
   "execution_count": null,
   "metadata": {},
   "outputs": [],
   "source": [
    "plt.figure(figsize=(14,10))\n",
    "plt.imshow(dark_std, norm=visualization.simple_norm(dark_std, stretch='asinh', max_percent=99.95))\n",
    "plt.colorbar()\n",
    "_=plt.xlabel(\"Pixel X Coordinate\")\n",
    "_=plt.ylabel(\"Pixel Y Coordinate\")"
   ]
  },
  {
   "cell_type": "markdown",
   "metadata": {},
   "source": [
    "### Noise estimate from dark stack\n",
    "[Index](#Index)\n",
    "\n",
    "\n",
    "So again we have an image that contains (almost) only noise, but this time it contains contributions from both read noise and from dark current.\n",
    "\n",
    "\n",
    "What are the mean and median noise level in this image?"
   ]
  },
  {
   "cell_type": "code",
   "execution_count": null,
   "metadata": {},
   "outputs": [],
   "source": [
    "# student exercise\n",
    "mean_dark_noise = <your answer here>\n",
    "median_dark_noise = <your answer here>"
   ]
  },
  {
   "cell_type": "code",
   "execution_count": null,
   "metadata": {},
   "outputs": [],
   "source": [
    "print(\"Mean dark noise:\",mean_dark_noise)\n",
    "print(\"Median dark noise:\",median_dark_noise)"
   ]
  },
  {
   "cell_type": "markdown",
   "metadata": {},
   "source": [
    "You should get values:\n",
    "\n",
    " * Mean dark noise: 10.870688076255952\n",
    " * Median dark noise: 10.813465423710756\n"
   ]
  },
  {
   "cell_type": "markdown",
   "metadata": {},
   "source": [
    "We had 29 dark frames and 10 bias frames, so our estimate of the dark noise (from the dark frames) will be more precise than the readnoise estimate from the bias frames.  In the histogram below, the distribution will be narrower for the darks."
   ]
  },
  {
   "cell_type": "code",
   "execution_count": null,
   "metadata": {},
   "outputs": [],
   "source": [
    "# comparison of the dark noise (note that this time we hand-specified the bin locations)\n",
    "_ = plt.hist(dark_std.ravel(), bins=np.linspace(0,20), label='Dark')\n",
    "_ = plt.hist(bias_std_image.ravel(), bins=np.linspace(0,20), label='Bias', alpha=0.5)\n",
    "leg = plt.legend(loc='best')\n",
    "_=plt.xlabel(\"Pixel Value\")\n",
    "_=plt.ylabel(\"Number of Pixels\")"
   ]
  },
  {
   "cell_type": "code",
   "execution_count": null,
   "metadata": {},
   "outputs": [],
   "source": [
    "print(\"Mean read noise:\",mean_readnoise)\n",
    "print(\"Median read noise:\",median_readnoise)"
   ]
  },
  {
   "cell_type": "markdown",
   "metadata": {},
   "source": [
    "Now we can estimate how much _noise_ was added by the dark current.\n",
    "\n",
    "We know that the dark current added (dark_mean - bias_mean_image) counts:"
   ]
  },
  {
   "cell_type": "code",
   "execution_count": null,
   "metadata": {},
   "outputs": [],
   "source": [
    "mean_dark_current = np.mean(dark_mean) - np.mean(bias_mean_image)\n",
    "mean_dark_current"
   ]
  },
  {
   "cell_type": "markdown",
   "metadata": {},
   "source": [
    "What is the resulting dark rate?"
   ]
  },
  {
   "cell_type": "code",
   "execution_count": null,
   "metadata": {},
   "outputs": [],
   "source": [
    "# student exercise\n",
    "dark_rate_estimate = <your answer here>\n",
    "dark_rate_estimate"
   ]
  },
  {
   "cell_type": "markdown",
   "metadata": {},
   "source": [
    "You should obtain ~1.39 counts/second\n",
    "\n",
    "Given the dark rate you've estimated, let's assess whether the \"bias\" frames are really dark-electron-free.\n",
    "\n",
    "How many dark current counts do you expect, on average, per pixel in the bias frames?"
   ]
  },
  {
   "cell_type": "code",
   "execution_count": null,
   "metadata": {},
   "outputs": [],
   "source": [
    "# student exercise\n",
    "n_dark_counts = <your answer here>\n",
    "n_dark_counts"
   ]
  },
  {
   "cell_type": "markdown",
   "metadata": {},
   "source": [
    "Based on that result, assess: Is the short \"bias\" exposure really a good estimate of the bias, or is it significantly affected by dark current?"
   ]
  },
  {
   "cell_type": "markdown",
   "metadata": {},
   "source": [
    "Student answer:\n",
    "-student answer-"
   ]
  },
  {
   "cell_type": "markdown",
   "metadata": {},
   "source": [
    "# 3. Inspect some on-sky data\n",
    "\n",
    "[Index](#Index)"
   ]
  },
  {
   "cell_type": "markdown",
   "metadata": {},
   "source": [
    "There is one image file, `target_image.FIT`, that we'll inspect now."
   ]
  },
  {
   "cell_type": "markdown",
   "metadata": {},
   "source": [
    "First, display the image with reasonable contrast using what you've learned above.  \n",
    "\n",
    "Recall that you can see help on a command by putting `<commandname>?` in a cell.  For example, you might do `visualization.simple_norm?` to see what the `simple_norm` function can do, or `plt.imshow?` to see what imshow can do."
   ]
  },
  {
   "cell_type": "code",
   "execution_count": null,
   "metadata": {},
   "outputs": [],
   "source": [
    "# student exercise: load the file\n",
    "target_image = <your answer here>"
   ]
  },
  {
   "cell_type": "code",
   "execution_count": null,
   "metadata": {},
   "outputs": [],
   "source": [
    "# student exercise: display the data so you can see what's going on\n",
    "<your answer here>"
   ]
  },
  {
   "cell_type": "markdown",
   "metadata": {},
   "source": [
    "You should note that there are still artifacts similar to those we saw earlier.  So, now we will subtract the dark frame from the image.  You have an average dark frame built from the average of many 10s darks.  Use that!"
   ]
  },
  {
   "cell_type": "code",
   "execution_count": null,
   "metadata": {},
   "outputs": [],
   "source": [
    "# student exercise: make a dark-subtracted version of the above\n",
    "darksub_target_image =  <your answer here>"
   ]
  },
  {
   "cell_type": "code",
   "execution_count": null,
   "metadata": {},
   "outputs": [],
   "source": [
    "# student exercise: display the dark subtracted data\n",
    "<your answer here>\n"
   ]
  },
  {
   "cell_type": "markdown",
   "metadata": {},
   "source": [
    "What do you think?  Did dark subtraction improve the image?  How?\n",
    "\n",
    "<student answer>"
   ]
  },
  {
   "cell_type": "markdown",
   "metadata": {},
   "source": [
    "# Index (end)\n",
    "\n",
    "\n",
    " * [#1. Inspect Biases](#1.-Inspect-an-image:-Bias) - mostly guided work, you will run cells & read\n",
    "   * [Show an image with improved contrast](#Show-an-image-with-improved-contrast)\n",
    "   * [Zoom in on a hot pixel](#Zooming-in-on-a-hot-pixel) student exercise\n",
    "   * [Examining Histograms](#Examining-Histograms)\n",
    "   * [Masking](#Masking)\n",
    "   * [Gaussian Distribution](#Gaussian-distribution)\n",
    "   * [Noise Estimation](#Noise-Estimation)\n",
    "   * [Header Loading](#Header-Loading-Aside) student exercise\n",
    "   * [Multiple Exposures -> Time Series Cube](#Multiple-Exposures-as-a-\"Time-Series\"-Data-Cube)\n",
    "   * [Mean of the Mean](#The-mean-of-the-mean)\n",
    "   * [Robust Statistics](#Robust-Statistics)\n",
    " * [#2. Inspect Darks](#2.-Inspect-an-image:-Dark-Frame) - student work: you fill in the blanks\n",
    "   * [Dark Frame Questions](#Dark-Frame-Questions)\n",
    "   * [Dark Current Rate](#Dark-Current-Rate)\n",
    "   * [vmin, vmax](#Student-Question:-vmin,-vmax)\n",
    "   * [Bias-subtracted dark statistics](#Bias-subtracted-Dark-Stats)\n",
    "   * [Noise estimate from dark stack](#Noise-estimate-from-dark-stack)\n",
    " * [#3. Image Inspection](#3.-Inspect-some-on-sky-data)"
   ]
  }
 ],
 "metadata": {
  "kernelspec": {
   "display_name": "Python 3",
   "language": "python",
   "name": "python3"
  },
  "language_info": {
   "codemirror_mode": {
    "name": "ipython",
    "version": 3
   },
   "file_extension": ".py",
   "mimetype": "text/x-python",
   "name": "python",
   "nbconvert_exporter": "python",
   "pygments_lexer": "ipython3",
   "version": "3.8.8"
  }
 },
 "nbformat": 4,
 "nbformat_minor": 2
}
