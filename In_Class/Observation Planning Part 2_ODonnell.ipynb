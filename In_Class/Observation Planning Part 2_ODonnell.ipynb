{
 "cells": [
  {
   "cell_type": "markdown",
   "metadata": {},
   "source": [
    "# Observation Planning Part 2 - Sensitivity Calculation\n",
    "\n",
    "1. Where is my target?\n",
    "2. When can I observe my target?\n",
    "3. How do I know when I've found my target (make a finder chart)?\n",
    "4. __How long do I need to observe?__\n",
    "5. How will I calibrate my data?\n",
    "\n",
    "In Observation Planning part 1, we covered parts 1,2,3 above.  Now we'll cover the 4th part, calculating observation times."
   ]
  },
  {
   "cell_type": "markdown",
   "metadata": {},
   "source": [
    "First, a brief review:  For each of the following questions, give a brief explanation of what tools you use to answer the first three questions:\n",
    "\n",
    "(1) Where is my target?\n",
    "\n",
    "Your answer here\n",
    "\n",
    "(2) When can I observe my target?\n",
    "\n",
    "Your answer here\n",
    "\n",
    "(3) How do I know when I've found my target?\n",
    "\n",
    "\n",
    "Your answer here"
   ]
  },
  {
   "cell_type": "markdown",
   "metadata": {},
   "source": [
    "## How long do I need to observe my target?"
   ]
  },
  {
   "cell_type": "markdown",
   "metadata": {},
   "source": [
    "We know approximately how long we _can_ observe each target, but how long do we _need_ per source?  To answer this question, we need to do some sensitivity calculations.\n"
   ]
  },
  {
   "cell_type": "markdown",
   "metadata": {},
   "source": [
    "First, we determine how bright our target is.  You can only obtain this information for known sources, but generally, we can set a reasonable limit based off of physical considerations."
   ]
  },
  {
   "cell_type": "markdown",
   "metadata": {},
   "source": [
    "Our observations will be performed in the visual, meaning we are interested in the source brightness in the R (red) and V (visual) filters."
   ]
  },
  {
   "cell_type": "markdown",
   "metadata": {},
   "source": [
    "We can use SIMBAD to look up the typical brightness of the target source in magnitudes.  You can go on the [SIMBAD website](http://simbad.u-strasbg.fr/simbad/) to see how this works, but astroquery can also do it, so we're going to use astroquery here.  The astroquery SIMBAD module tells you what \"fields\" (data column names) are available to query on for each source."
   ]
  },
  {
   "cell_type": "code",
   "execution_count": 2,
   "metadata": {},
   "outputs": [],
   "source": [
    "from astroquery.simbad import Simbad\n",
    "import numpy as np"
   ]
  },
  {
   "cell_type": "markdown",
   "metadata": {},
   "source": [
    "Recall from the previous workbook that we can use SIMBAD to retrieve information about stars, but the information included does not, by default, include the flux (or magnitude) of the source."
   ]
  },
  {
   "cell_type": "code",
   "execution_count": 3,
   "metadata": {},
   "outputs": [
    {
     "data": {
      "text/html": [
       "<div><i>Table length=1</i>\n",
       "<table id=\"table1949693934896\" class=\"table-striped table-bordered table-condensed\">\n",
       "<thead><tr><th>MAIN_ID</th><th>RA</th><th>DEC</th><th>RA_PREC</th><th>DEC_PREC</th><th>COO_ERR_MAJA</th><th>COO_ERR_MINA</th><th>COO_ERR_ANGLE</th><th>COO_QUAL</th><th>COO_WAVELENGTH</th><th>COO_BIBCODE</th><th>SCRIPT_NUMBER_ID</th></tr></thead>\n",
       "<thead><tr><th></th><th>&quot;h:m:s&quot;</th><th>&quot;d:m:s&quot;</th><th></th><th></th><th>mas</th><th>mas</th><th>deg</th><th></th><th></th><th></th><th></th></tr></thead>\n",
       "<thead><tr><th>object</th><th>str13</th><th>str13</th><th>int16</th><th>int16</th><th>float32</th><th>float32</th><th>int16</th><th>str1</th><th>str1</th><th>object</th><th>int32</th></tr></thead>\n",
       "<tr><td>* P Cyg</td><td>20 17 47.2020</td><td>+38 01 58.552</td><td>11</td><td>11</td><td>0.120</td><td>0.130</td><td>90</td><td>A</td><td>O</td><td>2007A&amp;A...474..653V</td><td>1</td></tr>\n",
       "</table></div>"
      ],
      "text/plain": [
       "<Table length=1>\n",
       "MAIN_ID       RA           DEC      ...     COO_BIBCODE     SCRIPT_NUMBER_ID\n",
       "           \"h:m:s\"       \"d:m:s\"    ...                                     \n",
       " object     str13         str13     ...        object            int32      \n",
       "------- ------------- ------------- ... ------------------- ----------------\n",
       "* P Cyg 20 17 47.2020 +38 01 58.552 ... 2007A&A...474..653V                1"
      ]
     },
     "execution_count": 3,
     "metadata": {},
     "output_type": "execute_result"
    }
   ],
   "source": [
    "pcyg_simbad = Simbad.query_object('P Cygni')\n",
    "pcyg_simbad"
   ]
  },
  {
   "cell_type": "code",
   "execution_count": 4,
   "metadata": {},
   "outputs": [
    {
     "name": "stdout",
     "output_type": "stream",
     "text": [
      "--NOTES--\n",
      "\n",
      "1. The parameter filtername must correspond to an existing filter. Filters include: B,V,R,I,J,K.  They are checked by SIMBAD but not astroquery.simbad\n",
      "\n",
      "2. Fields beginning with rvz display the data as it is in the database. Fields beginning with rv force the display as a radial velocity. Fields beginning with z force the display as a redshift\n",
      "\n",
      "3. For each measurement catalog, the VOTable contains all fields of the first measurement. When applicable, the first measurement is the mean one. \n",
      "\n",
      "Available VOTABLE fields:\n",
      "\n",
      "bibcodelist(y1-y2)\n",
      "biblio\n",
      "cel\n",
      "cl.g\n",
      "coo(opt)\n",
      "coo_bibcode\n",
      "coo_err_angle\n",
      "coo_err_maja\n",
      "coo_err_mina\n",
      "coo_qual\n",
      "coo_wavelength\n",
      "coordinates\n",
      "dec(opt)\n",
      "dec_prec\n",
      "diameter\n",
      "dim\n",
      "dim_angle\n",
      "dim_bibcode\n",
      "dim_incl\n",
      "dim_majaxis\n",
      "dim_minaxis\n",
      "dim_qual\n",
      "dim_wavelength\n",
      "dimensions\n",
      "distance\n",
      "distance_result\n",
      "einstein\n",
      "fe_h\n",
      "flux(filtername)\n",
      "flux_bibcode(filtername)\n",
      "flux_error(filtername)\n",
      "flux_name(filtername)\n",
      "flux_qual(filtername)\n",
      "flux_system(filtername)\n",
      "flux_unit(filtername)\n",
      "fluxdata(filtername)\n",
      "gcrv\n",
      "gen\n",
      "gj\n",
      "hbet\n",
      "hbet1\n",
      "hgam\n",
      "id(opt)\n",
      "ids\n",
      "iras\n",
      "irc\n",
      "iso\n",
      "iue\n",
      "jp11\n",
      "link_bibcode\n",
      "main_id\n",
      "measurements\n",
      "membership\n",
      "mesplx\n",
      "mespm\n",
      "mk\n",
      "morphtype\n",
      "mt\n",
      "mt_bibcode\n",
      "mt_qual\n",
      "otype\n",
      "otype(opt)\n",
      "otypes\n",
      "parallax\n",
      "plx\n",
      "plx_bibcode\n",
      "plx_error\n",
      "plx_prec\n",
      "plx_qual\n",
      "pm\n",
      "pm_bibcode\n",
      "pm_err_angle\n",
      "pm_err_maja\n",
      "pm_err_mina\n",
      "pm_qual\n",
      "pmdec\n",
      "pmdec_prec\n",
      "pmra\n",
      "pmra_prec\n",
      "pos\n",
      "posa\n",
      "propermotions\n",
      "ra(opt)\n",
      "ra_prec\n",
      "rot\n",
      "rv_value\n",
      "rvz_bibcode\n",
      "rvz_error\n",
      "rvz_qual\n",
      "rvz_radvel\n",
      "rvz_type\n",
      "rvz_wavelength\n",
      "sao\n",
      "sp\n",
      "sp_bibcode\n",
      "sp_nature\n",
      "sp_qual\n",
      "sptype\n",
      "td1\n",
      "typed_id\n",
      "ubv\n",
      "uvby\n",
      "uvby1\n",
      "v*\n",
      "velocity\n",
      "xmm\n",
      "z_value\n",
      "For more information on a field:\n",
      "Simbad.get_field_description ('field_name') \n",
      "Currently active VOTABLE fields:\n",
      " ['main_id', 'coordinates']\n"
     ]
    }
   ],
   "source": [
    "Simbad.list_votable_fields()"
   ]
  },
  {
   "cell_type": "markdown",
   "metadata": {},
   "source": [
    "We add the flux fields for the R and V filters, then we can see the two new columns added on the right:"
   ]
  },
  {
   "cell_type": "code",
   "execution_count": 5,
   "metadata": {},
   "outputs": [
    {
     "data": {
      "text/html": [
       "<div><i>Table length=1</i>\n",
       "<table id=\"table1949693843008\" class=\"table-striped table-bordered table-condensed\">\n",
       "<thead><tr><th>MAIN_ID</th><th>RA</th><th>DEC</th><th>RA_PREC</th><th>DEC_PREC</th><th>COO_ERR_MAJA</th><th>COO_ERR_MINA</th><th>COO_ERR_ANGLE</th><th>COO_QUAL</th><th>COO_WAVELENGTH</th><th>COO_BIBCODE</th><th>FLUX_R</th><th>FLUX_V</th><th>SCRIPT_NUMBER_ID</th></tr></thead>\n",
       "<thead><tr><th></th><th>&quot;h:m:s&quot;</th><th>&quot;d:m:s&quot;</th><th></th><th></th><th>mas</th><th>mas</th><th>deg</th><th></th><th></th><th></th><th>mag</th><th>mag</th><th></th></tr></thead>\n",
       "<thead><tr><th>object</th><th>str13</th><th>str13</th><th>int16</th><th>int16</th><th>float32</th><th>float32</th><th>int16</th><th>str1</th><th>str1</th><th>object</th><th>float32</th><th>float32</th><th>int32</th></tr></thead>\n",
       "<tr><td>* P Cyg</td><td>20 17 47.2020</td><td>+38 01 58.552</td><td>11</td><td>11</td><td>0.120</td><td>0.130</td><td>90</td><td>A</td><td>O</td><td>2007A&amp;A...474..653V</td><td>4.28</td><td>4.82</td><td>1</td></tr>\n",
       "</table></div>"
      ],
      "text/plain": [
       "<Table length=1>\n",
       "MAIN_ID       RA           DEC      RA_PREC ...  FLUX_R  FLUX_V SCRIPT_NUMBER_ID\n",
       "           \"h:m:s\"       \"d:m:s\"            ...   mag     mag                   \n",
       " object     str13         str13      int16  ... float32 float32      int32      \n",
       "------- ------------- ------------- ------- ... ------- ------- ----------------\n",
       "* P Cyg 20 17 47.2020 +38 01 58.552      11 ...    4.28    4.82                1"
      ]
     },
     "execution_count": 5,
     "metadata": {},
     "output_type": "execute_result"
    }
   ],
   "source": [
    "Simbad.reset_votable_fields()\n",
    "Simbad.add_votable_fields('flux(R)', 'flux(V)')\n",
    "pcyg_simbad = Simbad.query_object('P Cygni')\n",
    "pcyg_simbad"
   ]
  },
  {
   "cell_type": "markdown",
   "metadata": {},
   "source": [
    "P Cygni is about 4.3 magnitudes in R.  What does that mean?\n",
    "\n",
    "Magnitudes are a weird system with relative definitions.  The definition of magnitude is:\n",
    "\n",
    "$$ m = -2.5 \\log(F / F_0) $$\n",
    "\n",
    "$m$ is the observed (apparent) magnitude, $F$ is the source flux (in units of Jansky, ergs/cm$^2$/angstrom, W/m$^2$/angstrom, or erg/cm$^{2}$/Hz, usually), and $F_0$ is the flux at magnitude zero. \n",
    "\n",
    "__$F_0$ is a definition!__\n",
    "\n",
    "It was originally referenced to Vega, but more accurate observations have revealed that Vega is itself variable, so now the absolute standard is set by physical units.\n",
    "\n",
    "So, we have to look up $F_0$ or determine it ourselves.\n",
    "\n",
    "Note that each filter will have its own zero-point.  For example, for the visible $V$ band, we say:\n",
    "\n",
    "$$ m_V = -2.5 \\log(F_V / F_{0,V}) $$\n",
    "or for red:\n",
    "$$ m_R = -2.5 \\log(F_R / F_{0,R}) $$\n",
    "\n",
    "In the red filter, the zero-point is approximately 2500 Jy.  Therefore, we can compute the flux from P Cygni:\n",
    "\n",
    "$$ m_{P Cyg} = 4.3 = -2.5 \\log(F_{P Cyg} / 2500 \\mathrm{Jy}) $$\n",
    "\n",
    "Solve for $F_{P Cyg}$:\n",
    "\n",
    "$$ F_{P Cyg} = 10^{(-4.3/2.5)} \\times 2500 \\mathrm{Jy} $$"
   ]
  },
  {
   "cell_type": "code",
   "execution_count": 6,
   "metadata": {},
   "outputs": [],
   "source": [
    "from astropy import units as u"
   ]
  },
  {
   "cell_type": "code",
   "execution_count": 7,
   "metadata": {},
   "outputs": [
    {
     "data": {
      "text/latex": [
       "$47.636518 \\; \\mathrm{Jy}$"
      ],
      "text/plain": [
       "<Quantity 47.63651795 Jy>"
      ]
     },
     "execution_count": 7,
     "metadata": {},
     "output_type": "execute_result"
    }
   ],
   "source": [
    "F_PCyg = 10**(-4.3/2.5) * 2500*u.Jy\n",
    "F_PCyg"
   ]
  },
  {
   "cell_type": "markdown",
   "metadata": {},
   "source": [
    "This tells us the amount of energy received per area per unit frequency at the telescope.  Next, we need to compute the number of photons we'll collect."
   ]
  },
  {
   "cell_type": "markdown",
   "metadata": {},
   "source": [
    "1 Jansky is $10^{-23}$ ergs s$^{-1}$ cm$^{-2}$ Hz$^{-1}$ (https://en.wikipedia.org/wiki/Jansky)"
   ]
  },
  {
   "cell_type": "code",
   "execution_count": 8,
   "metadata": {},
   "outputs": [
    {
     "data": {
      "text/latex": [
       "$1 \\times 10^{-23} \\; \\mathrm{\\frac{erg}{Hz\\,s\\,cm^{2}}}$"
      ],
      "text/plain": [
       "<Quantity 1.e-23 erg / (cm2 Hz s)>"
      ]
     },
     "execution_count": 8,
     "metadata": {},
     "output_type": "execute_result"
    }
   ],
   "source": [
    "(1*u.Jy).to(u.erg/u.s/u.cm**2/u.Hz)"
   ]
  },
  {
   "cell_type": "markdown",
   "metadata": {},
   "source": [
    "We need to describe our instrument now.  Our telescope is a 14\" diameter telescope, so its area is (pi * (radius)$^2$).  An inch is 2.54 centimeters.  So, our collecting area is $A_{CTO 14\"}=$"
   ]
  },
  {
   "cell_type": "code",
   "execution_count": 9,
   "metadata": {},
   "outputs": [
    {
     "data": {
      "text/latex": [
       "$993.14666 \\; \\mathrm{cm^{2}}$"
      ],
      "text/plain": [
       "<Quantity 993.14665903 cm2>"
      ]
     },
     "execution_count": 9,
     "metadata": {},
     "output_type": "execute_result"
    }
   ],
   "source": [
    "# student answer here\n",
    "A_CTO = np.pi*((7*(2.54))*(u.cm))**2\n",
    "A_CTO"
   ]
  },
  {
   "cell_type": "markdown",
   "metadata": {},
   "source": [
    "This should be 993.14666 cm$^2$"
   ]
  },
  {
   "cell_type": "markdown",
   "metadata": {},
   "source": [
    "To determine how many photons we will receive, we need to know which wavelengths of photons are hitting the detector, and which ones are energetic enough to produce electrons through the photoelectric effect.\n",
    "\n",
    "We do this by putting a filter in front of the detector, which prevents longer- or shorter-wavelength (lower- or higher-energy) photons from getting through."
   ]
  },
  {
   "cell_type": "markdown",
   "metadata": {},
   "source": [
    "We will approximate that our red filter is $\\sim$1000 angstroms wide (in reality, there is a [wavelength-dependent filter function we could use](http://voservices.net/filter/), but we will take the simple approach for now).  The width of a filter is relative to the wavelength, and the red filter is centered at about 6500 angstroms.\n",
    "\n",
    "To convert a central wavelength from angstroms to Hertz, we use the definition $\\nu  \\lambda = c$, i.e., the frequency times the wavelength is the speed of light. "
   ]
  },
  {
   "cell_type": "markdown",
   "metadata": {},
   "source": [
    "For example, 100 microns ($\\mu$m) is at 3 THz.  Astropy's `constants.c` is the speed of light:"
   ]
  },
  {
   "cell_type": "code",
   "execution_count": 10,
   "metadata": {},
   "outputs": [
    {
     "data": {
      "text/latex": [
       "$2997924.6 \\; \\mathrm{\\frac{m}{s\\,\\mu m}}$"
      ],
      "text/plain": [
       "<Quantity 2997924.58 m / (s um)>"
      ]
     },
     "execution_count": 10,
     "metadata": {},
     "output_type": "execute_result"
    }
   ],
   "source": [
    "from astropy import constants\n",
    "wavelength = 100*u.um\n",
    "frequency = constants.c  / wavelength\n",
    "frequency"
   ]
  },
  {
   "cell_type": "markdown",
   "metadata": {},
   "source": [
    "Note the units on that are something funky, $m \\mu^{-1} s^{-1}$.  You can use astropy's `.to` to convert to a specific unit, or `.decompose` to reduce to a minimal expressible unit:"
   ]
  },
  {
   "cell_type": "code",
   "execution_count": 11,
   "metadata": {},
   "outputs": [
    {
     "name": "stdout",
     "output_type": "stream",
     "text": [
      "Decomposed frequency:  2997924580000.0 1 / s\n",
      "Frequency in THz:  2.99792458 THz\n"
     ]
    }
   ],
   "source": [
    "print(\"Decomposed frequency: \", frequency.decompose())\n",
    "print(\"Frequency in THz: \", frequency.to(u.THz))"
   ]
  },
  {
   "cell_type": "markdown",
   "metadata": {},
   "source": [
    "So, returning to our red filter, for a wavelength $\\lambda = 6500$ angstroms, solve for $\\nu$ in Hz or THz:"
   ]
  },
  {
   "cell_type": "code",
   "execution_count": 12,
   "metadata": {},
   "outputs": [
    {
     "data": {
      "text/latex": [
       "$4.6121917 \\times 10^{14} \\; \\mathrm{Hz}$"
      ],
      "text/plain": [
       "<Quantity 4.61219166e+14 Hz>"
      ]
     },
     "execution_count": 12,
     "metadata": {},
     "output_type": "execute_result"
    }
   ],
   "source": [
    "# student answer here\n",
    "lam = 6500*u.angstrom\n",
    "nu = constants.c / lam.decompose()\n",
    "nu.to(u.Hz)"
   ]
  },
  {
   "cell_type": "markdown",
   "metadata": {},
   "source": [
    "Should be $4.6121917×10^{14}$ Hz"
   ]
  },
  {
   "cell_type": "markdown",
   "metadata": {},
   "source": [
    "The filter width is $\\Delta\\lambda / \\lambda$.  We have defined the width $\\Delta \\lambda = 1000$ angstroms, and the central wavelength is $\\lambda=6500$ angstroms.  The relative width is the same in both units, i.e.:\n",
    "$$ \\frac{\\Delta\\lambda}{\\lambda} = \\frac{\\Delta\\nu}{\\nu} $$"
   ]
  },
  {
   "cell_type": "markdown",
   "metadata": {},
   "source": [
    "You solved for $\\nu$ above, so now determine $\\Delta \\nu$ (again, in Hz or THz)"
   ]
  },
  {
   "cell_type": "code",
   "execution_count": 13,
   "metadata": {},
   "outputs": [
    {
     "data": {
      "text/latex": [
       "$7.0956795 \\times 10^{13} \\; \\mathrm{Hz}$"
      ],
      "text/plain": [
       "<Quantity 7.09567948e+13 Hz>"
      ]
     },
     "execution_count": 13,
     "metadata": {},
     "output_type": "execute_result"
    }
   ],
   "source": [
    "# student answer here\n",
    "dnu = nu*((1000)/(6500))\n",
    "dnu.to(u.Hz)"
   ]
  },
  {
   "cell_type": "markdown",
   "metadata": {},
   "source": [
    "Your answer should be $7.0956795×10^{13}$Hz"
   ]
  },
  {
   "cell_type": "markdown",
   "metadata": {},
   "source": [
    "We can convert our flux in Janskys to $10^{-23}$ ergs s$^{-1}$ cm$^{-2}$ Hz$^{-1}$, then multiply by the bandwidth in Hz and the collecting area in cm$^{2}$ to obtain the energy we will receive on the detector per second:\n",
    "\n",
    "$$ E_{rec} = F_{P Cyg} * A_{CTO 14\"} * \\Delta \\nu $$\n",
    "\n",
    "Compute $E_{rec}$ in units of erg $s^{-1}$ (`u.erg/u.s`):"
   ]
  },
  {
   "cell_type": "code",
   "execution_count": 14,
   "metadata": {},
   "outputs": [
    {
     "data": {
      "text/plain": [
       "(<Quantity 7.09567948e+13 1 / s>,\n",
       " <Quantity 47.63651795 Jy>,\n",
       " <Quantity 993.14665903 cm2>)"
      ]
     },
     "execution_count": 14,
     "metadata": {},
     "output_type": "execute_result"
    }
   ],
   "source": [
    "# you should have these three variables defined already\n",
    "dnu, F_PCyg, A_CTO"
   ]
  },
  {
   "cell_type": "code",
   "execution_count": 15,
   "metadata": {},
   "outputs": [
    {
     "data": {
      "text/latex": [
       "$1 \\times 10^{-23} \\; \\mathrm{\\frac{erg}{Hz\\,s\\,cm^{2}}}$"
      ],
      "text/plain": [
       "<Quantity 1.e-23 erg / (cm2 Hz s)>"
      ]
     },
     "execution_count": 15,
     "metadata": {},
     "output_type": "execute_result"
    }
   ],
   "source": [
    "(1*u.Jy).to(u.erg/u.s/u.cm**2/u.Hz)"
   ]
  },
  {
   "cell_type": "code",
   "execution_count": 16,
   "metadata": {},
   "outputs": [
    {
     "name": "stdout",
     "output_type": "stream",
     "text": [
      "70956794792899.39 Hz 993.1466590310957 cm2 4.763651794908118e-22 erg / (cm2 Hz s)\n"
     ]
    },
    {
     "data": {
      "text/latex": [
       "$3.3569694 \\times 10^{-5} \\; \\mathrm{\\frac{erg}{s}}$"
      ],
      "text/plain": [
       "<Quantity 3.35696941e-05 erg / s>"
      ]
     },
     "execution_count": 16,
     "metadata": {},
     "output_type": "execute_result"
    }
   ],
   "source": [
    "# student answer here (in erg/s)\n",
    "dnu = dnu.to(u.Hz)\n",
    "F_PCyg = F_PCyg.to(u.erg/u.s/u.cm**2/u.Hz)\n",
    "print(dnu, A_CTO,F_PCyg)\n",
    "\n",
    "E_rec = (F_PCyg)*A_CTO*dnu\n",
    "E_rec.to(u.erg/u.s)"
   ]
  },
  {
   "cell_type": "markdown",
   "metadata": {},
   "source": [
    "Should be: $3.3569694×10^{−5}$ ergs / s"
   ]
  },
  {
   "cell_type": "markdown",
   "metadata": {},
   "source": [
    "The CCD detector responds to individual photons, so we need to count how many photons are coming in.  The average wavelegnth of a photon is 6500 angstroms (approximately).  We can compute the energy per photon using\n",
    "\n",
    "$$ E_{phot} = h \\nu$$\n",
    "\n",
    "where $h$ is [Planck's constant](https://en.wikipedia.org/wiki/Planck_constant).  Using the above information, compute the mean energy per photon."
   ]
  },
  {
   "cell_type": "markdown",
   "metadata": {},
   "source": [
    "(recall that frequency and wavelength are related as $c = \\nu / \\lambda$)"
   ]
  },
  {
   "cell_type": "code",
   "execution_count": 17,
   "metadata": {},
   "outputs": [
    {
     "name": "stdout",
     "output_type": "stream",
     "text": [
      "1.9074492066646191 eV\n",
      "3.0560705494598897e-12 erg\n"
     ]
    }
   ],
   "source": [
    "# student answer here (compute the anwer in both eV and erg)\n",
    "E_phot = constants.h*(nu)\n",
    "\n",
    "print(E_phot.to(u.eV))\n",
    "print(E_phot.to(u.erg))"
   ]
  },
  {
   "cell_type": "markdown",
   "metadata": {},
   "source": [
    "You should obtain a number near 2 eV."
   ]
  },
  {
   "cell_type": "markdown",
   "metadata": {},
   "source": [
    "Given our energy received from the star $E_{rec}$ [erg/s] and the energy per photon $E_{phot}$ [erg], how many photons are we receiving per second?"
   ]
  },
  {
   "cell_type": "code",
   "execution_count": 18,
   "metadata": {},
   "outputs": [
    {
     "data": {
      "text/latex": [
       "$10984594 \\; \\mathrm{\\frac{1}{s}}$"
      ],
      "text/plain": [
       "<Quantity 10984593.97222623 1 / s>"
      ]
     },
     "execution_count": 18,
     "metadata": {},
     "output_type": "execute_result"
    }
   ],
   "source": [
    "# student answer here (units (1/u.s))\n",
    "\n",
    "phot_per_s = E_rec/E_phot.to(u.erg)\n",
    "phot_per_s"
   ]
  },
  {
   "cell_type": "markdown",
   "metadata": {},
   "source": [
    "Answer should be: 10984594 s$^{-1}$"
   ]
  },
  {
   "cell_type": "markdown",
   "metadata": {},
   "source": [
    "CCD detectors saturate at approximately $2^{16} = 65536$ counts (though ours saturate at closer to 30,000).  Is the photon count greater than or less than this number? "
   ]
  },
  {
   "cell_type": "markdown",
   "metadata": {},
   "source": [
    "Greater"
   ]
  },
  {
   "cell_type": "markdown",
   "metadata": {},
   "source": [
    "If the above is greater than the saturation count, how many pixels do we need to spread the photons over to stay below saturation in 1 second?"
   ]
  },
  {
   "cell_type": "code",
   "execution_count": 19,
   "metadata": {},
   "outputs": [
    {
     "data": {
      "text/plain": [
       "366.15313333333336"
      ]
     },
     "execution_count": 19,
     "metadata": {},
     "output_type": "execute_result"
    }
   ],
   "source": [
    "# student answer\n",
    "## counts = 10984594 for 1 s exposure \n",
    "## 30000 / 10984594 \n",
    "npix = 10984594 / 30000\n",
    "npix"
   ]
  },
  {
   "cell_type": "markdown",
   "metadata": {},
   "source": [
    "The CCDs at CTO are ST-402 cameras.  They have 765x510 pixels over 6.9x4.3mm."
   ]
  },
  {
   "cell_type": "markdown",
   "metadata": {},
   "source": [
    "How big are the individual pixels, in microns? (should be about 9x9 microns)"
   ]
  },
  {
   "cell_type": "code",
   "execution_count": 20,
   "metadata": {},
   "outputs": [
    {
     "name": "stdout",
     "output_type": "stream",
     "text": [
      "9.019607843137257 um\n",
      "8.431372549019608 um\n"
     ]
    }
   ],
   "source": [
    "# student answer: compute the pixel size in both dimensions\n",
    "## total_pix = 765 len 510 width\n",
    "## total_pix_area = 6.9 mm len by 4.3 mm width \n",
    "pix_len = 6.9*(u.mm)\n",
    "pix_wid = 4.3*(u.mm)\n",
    "pix_size_len = pix_len/765\n",
    "print(pix_size_len.to(u.um))\n",
    "\n",
    "pix_size_wid = pix_wid/510\n",
    "print(pix_size_wid.to(u.um))"
   ]
  },
  {
   "cell_type": "markdown",
   "metadata": {},
   "source": [
    "By observing a pair of stars with known separation on the sky, we can determine what the _pixel scale_ of our CCD is.  \n",
    "\n",
    "However, for the purpose of this exercise, we will simply assume that the pixel scale is $\\approx0.5\"$ per pixel."
   ]
  },
  {
   "cell_type": "markdown",
   "metadata": {},
   "source": [
    "Given the typical seeing at CTO (about 2\"), over what radius circle does our star need to be projected to avoid saturating any pixels?"
   ]
  },
  {
   "cell_type": "markdown",
   "metadata": {},
   "source": [
    "We calculate this in two steps:  First, we know that the _area_ we need to project onto must be ~168 pixels.  What _radius_ circle has an area of 168 pixels?"
   ]
  },
  {
   "cell_type": "code",
   "execution_count": 21,
   "metadata": {},
   "outputs": [
    {
     "data": {
      "text/latex": [
       "$7.3127328 \\; \\mathrm{pix}$"
      ],
      "text/plain": [
       "<Quantity 7.31273279 pix>"
      ]
     },
     "execution_count": 21,
     "metadata": {},
     "output_type": "execute_result"
    }
   ],
   "source": [
    "# student answer\n",
    "## A = pi r^2   r = sqrt(A/pi)\n",
    "radius_pixels = (168/np.pi)**(1/2)*(u.pixel)\n",
    "radius_pixels"
   ]
  },
  {
   "cell_type": "markdown",
   "metadata": {},
   "source": [
    "Should be 7.3 pixels"
   ]
  },
  {
   "cell_type": "markdown",
   "metadata": {},
   "source": [
    "What does that size in pixels correspond to in arcseconds?"
   ]
  },
  {
   "cell_type": "code",
   "execution_count": 22,
   "metadata": {},
   "outputs": [],
   "source": [
    "pixel_scale = 0.5*u.arcsec/u.pixel"
   ]
  },
  {
   "cell_type": "code",
   "execution_count": 23,
   "metadata": {},
   "outputs": [
    {
     "data": {
      "text/latex": [
       "$3.6563664 \\; \\mathrm{{}^{\\prime\\prime}}$"
      ],
      "text/plain": [
       "<Quantity 3.6563664 arcsec>"
      ]
     },
     "execution_count": 23,
     "metadata": {},
     "output_type": "execute_result"
    }
   ],
   "source": [
    "radius_pixels * pixel_scale"
   ]
  },
  {
   "cell_type": "markdown",
   "metadata": {},
   "source": [
    "Is the radius we need to smear the source over, i.e., the radius in arcseconds we just calculated above, bigger or smaller than the expected source size (the \"point spread function\")?\n",
    "\n",
    ".5 arc sec per pixel \n",
    "\n",
    "(0.5)(7.3) = 3.65\n",
    "\n",
    "The expected source size is the same\n",
    "\n",
    "Given that answer, can we observe this target without saturating the CCD?  Justify your answer.\n",
    "\n",
    "We should be able to observe it because we can techically spread it all out"
   ]
  },
  {
   "cell_type": "code",
   "execution_count": 24,
   "metadata": {},
   "outputs": [
    {
     "data": {
      "text/plain": [
       "3.65"
      ]
     },
     "execution_count": 24,
     "metadata": {},
     "output_type": "execute_result"
    }
   ],
   "source": [
    "(0.5)*(7.3)"
   ]
  },
  {
   "cell_type": "markdown",
   "metadata": {},
   "source": [
    "## Integration Times\n",
    "\n",
    "In the above, we were simply determining whether the source would be above or below the saturation level of our CCDs.  Let's now determine how long we need to integrate to achieve a target signal to noise ratio."
   ]
  },
  {
   "cell_type": "markdown",
   "metadata": {},
   "source": [
    "We decide our integration time based on a target signal-to-noise ratio (SNR).  If our target SNR is 100, how long do we need to integrate?\n",
    "\n",
    "To a first approximation, we can assume that the signal-to-noise is limited by counting statistics.  That means that the signal $S$ rises as the count rate $\\dot{p}$ times the time,  $S = \\dot{p} t$.  The noise $N$ is, in the Poisson noise limit, the square root of the signal (in photons), i.e., $N = \\sqrt(S)$.  The SNR is therefore \n",
    "$$S/N = \\frac{\\dot{p} t}{\\sqrt{\\dot{p} t}} = \\sqrt{\\dot{p} t}$$"
   ]
  },
  {
   "cell_type": "markdown",
   "metadata": {},
   "source": [
    "## Warning / Note\n",
    "\n",
    "When we say that the uncertainty is the square root of the signal when counting photons, we have a bit of a units problem!\n",
    "\n",
    "$$ \\sigma = \\sqrt{\\lambda}$$\n",
    "\n",
    "The number of photons counted has units: number of photons.  The _uncertainty_ on that number has the same units, despite the fact that, naively, you would look at the above equation and say that the uncertainty has units of $\\sqrt{counts}$.\n",
    "\n",
    "You can't rely on the astropy unit system (or any automated unit system) to handle this equivalency; you need to take care to establish the correct units when dealing with uncertainties on counts."
   ]
  },
  {
   "cell_type": "markdown",
   "metadata": {},
   "source": [
    "We calculated the count rate above (`phot_per_s`), so what integration time $t$ do we need for $SNR=100$ ?"
   ]
  },
  {
   "cell_type": "code",
   "execution_count": 25,
   "metadata": {},
   "outputs": [
    {
     "data": {
      "text/latex": [
       "$0.91036592 \\; \\mathrm{ms}$"
      ],
      "text/plain": [
       "<Quantity 0.91036592 ms>"
      ]
     },
     "execution_count": 25,
     "metadata": {},
     "output_type": "execute_result"
    }
   ],
   "source": [
    "# student answer (in seconds)\n",
    "## t = 100^2 / pdot\n",
    "integration_time = (100**2)/(phot_per_s)\n",
    "integration_time.to(u.ms)"
   ]
  },
  {
   "cell_type": "markdown",
   "metadata": {},
   "source": [
    "You should note that that is a pretty short time! (about 0.9 milliseconds)"
   ]
  },
  {
   "cell_type": "markdown",
   "metadata": {},
   "source": [
    "What if we account for read noise?  Let's assume that we are averaging over a 2 arcsecond Gaussian PSF.  First, how many pixels is that?\n",
    "\n",
    "The area of a Gaussian isn't exactly that of a circle.  $A_{2D \\mathrm{Gaussian}} = 2 \\pi \\sigma^2$"
   ]
  },
  {
   "cell_type": "code",
   "execution_count": 26,
   "metadata": {},
   "outputs": [
    {
     "data": {
      "text/latex": [
       "$25.132741 \\; \\mathrm{arcsec^{2}}$"
      ],
      "text/plain": [
       "<Quantity 25.13274123 arcsec2>"
      ]
     },
     "execution_count": 26,
     "metadata": {},
     "output_type": "execute_result"
    }
   ],
   "source": [
    "psf_area = 2 * np.pi * (2*u.arcsec)**2\n",
    "psf_area"
   ]
  },
  {
   "cell_type": "code",
   "execution_count": 27,
   "metadata": {},
   "outputs": [
    {
     "data": {
      "text/latex": [
       "$100.53096 \\; \\mathrm{pix^{2}}$"
      ],
      "text/plain": [
       "<Quantity 100.53096491 pix2>"
      ]
     },
     "execution_count": 27,
     "metadata": {},
     "output_type": "execute_result"
    }
   ],
   "source": [
    "psf_area_pixels = psf_area * pixel_scale**-2\n",
    "psf_area_pixels"
   ]
  },
  {
   "cell_type": "markdown",
   "metadata": {},
   "source": [
    "Given that our readnoise is 10 counts per pixel, and we're interested in the _sum_ over these pixels, what is the expected contribution to the noise on the sum from these pixels?"
   ]
  },
  {
   "cell_type": "code",
   "execution_count": 28,
   "metadata": {},
   "outputs": [
    {
     "data": {
      "text/latex": [
       "$100.26513 \\; \\mathrm{adu}$"
      ],
      "text/plain": [
       "<Quantity 100.26513099 adu>"
      ]
     },
     "execution_count": 28,
     "metadata": {},
     "output_type": "execute_result"
    }
   ],
   "source": [
    "# student answer\n",
    "readnoise_per_pix = 10*u.adu/u.pix\n",
    "readnoise_sum = (psf_area_pixels*readnoise_per_pix**2)**(1/2)\n",
    "readnoise_sum"
   ]
  },
  {
   "cell_type": "markdown",
   "metadata": {},
   "source": [
    "By coincidence, that's about 100.265 ADU"
   ]
  },
  {
   "cell_type": "markdown",
   "metadata": {},
   "source": [
    "Given our calculation of the SNR and count noise above, what's our expected _total_ noise in the measurement over the PSF? (recall: the signal will be $t \\times \\dot{p}$, and we have calculated both of those quantities above)"
   ]
  },
  {
   "cell_type": "code",
   "execution_count": 34,
   "metadata": {},
   "outputs": [
    {
     "data": {
      "text/latex": [
       "$100 \\; \\mathrm{adu}$"
      ],
      "text/plain": [
       "<Quantity 100. adu>"
      ]
     },
     "execution_count": 34,
     "metadata": {},
     "output_type": "execute_result"
    }
   ],
   "source": [
    "# student answer (note: this value should be in the same units as the read noise above - you might have to add those units!)\n",
    "## p dot = phot_per_s\n",
    "## t = integration_time\n",
    "## Signal S = t(p dot)\n",
    "photon_noise = (phot_per_s*integration_time)**(1/2)*(u.adu)\n",
    "photon_noise"
   ]
  },
  {
   "cell_type": "code",
   "execution_count": 39,
   "metadata": {},
   "outputs": [
    {
     "data": {
      "text/latex": [
       "$141.60896 \\; \\mathrm{adu}$"
      ],
      "text/plain": [
       "<Quantity 141.60895625 adu>"
      ]
     },
     "execution_count": 39,
     "metadata": {},
     "output_type": "execute_result"
    }
   ],
   "source": [
    "# student answer\n",
    "total_noise = (photon_noise**2 + (readnoise_sum)**(2))**(1/2)\n",
    "total_noise"
   ]
  },
  {
   "cell_type": "markdown",
   "metadata": {},
   "source": [
    "Should be about sqrt(2) * 100"
   ]
  },
  {
   "cell_type": "markdown",
   "metadata": {},
   "source": [
    "Given that our noise is higher than we originally thought, we will not achieve our target signal to noise ratio!  What will we achieve instead?"
   ]
  },
  {
   "cell_type": "code",
   "execution_count": 112,
   "metadata": {},
   "outputs": [
    {
     "data": {
      "text/latex": [
       "$141.60896 \\; \\mathrm{adu}$"
      ],
      "text/plain": [
       "<Quantity 141.60895625 adu>"
      ]
     },
     "execution_count": 112,
     "metadata": {},
     "output_type": "execute_result"
    }
   ],
   "source": [
    "# student answer\n",
    "signal = (total_noise)**2\n",
    "snr = signal / total_noise\n",
    "snr"
   ]
  },
  {
   "cell_type": "markdown",
   "metadata": {},
   "source": [
    "We can write down a different equation for the signal-to-noise ratio now that we know how much readnoise to expect for a stellar observation.\n",
    "\n",
    "$$S/N = \\frac{\\dot{p} t}{\\sqrt{\\dot{p} t + \\sigma_{rn}^2}} \\approx \\frac{\\dot{p} t}{\\sqrt{\\dot{p} t + 100}} $$"
   ]
  },
  {
   "cell_type": "markdown",
   "metadata": {},
   "source": [
    "This equation is no longer trivially solvable, but it can be rearranged nicely enough into a quadratic equation:\n",
    "$$SNR^2 \\left( \\dot{p} t + 100\\right) = \\left(\\dot{p}t\\right)^2$$ \n"
   ]
  },
  {
   "cell_type": "markdown",
   "metadata": {},
   "source": [
    "if we substitute $S = \\dot{p} t$, it looks a little simpler\n",
    "$$ S^2 - S \\cdot SNR^2  - 100 SNR^2 = 0$$\n",
    "then, we can use the quadratic formula to solve for the needed signal:\n",
    "$$S = SNR^2 \\pm \\frac{\\sqrt{SNR^4 + 400 SNR^2}}{2}$$"
   ]
  },
  {
   "cell_type": "code",
   "execution_count": 29,
   "metadata": {},
   "outputs": [
    {
     "data": {
      "text/plain": [
       "15099.279489285953"
      ]
     },
     "execution_count": 29,
     "metadata": {},
     "output_type": "execute_result"
    }
   ],
   "source": [
    "SNR = 100\n",
    "target_signal = SNR**2 + (SNR**4 + 4*readnoise_sum.value*SNR**2)**0.5 / 2\n",
    "target_signal"
   ]
  },
  {
   "cell_type": "code",
   "execution_count": 30,
   "metadata": {},
   "outputs": [
    {
     "data": {
      "text/latex": [
       "$0.0013745869 \\; \\mathrm{s}$"
      ],
      "text/plain": [
       "<Quantity 0.00137459 s>"
      ]
     },
     "execution_count": 30,
     "metadata": {},
     "output_type": "execute_result"
    }
   ],
   "source": [
    "integration_time_including_readnoise = target_signal / phot_per_s\n",
    "integration_time_including_readnoise"
   ]
  },
  {
   "cell_type": "code",
   "execution_count": 31,
   "metadata": {},
   "outputs": [
    {
     "data": {
      "text/latex": [
       "$1.5099279 \\; \\mathrm{}$"
      ],
      "text/plain": [
       "<Quantity 1.50992795>"
      ]
     },
     "execution_count": 31,
     "metadata": {},
     "output_type": "execute_result"
    }
   ],
   "source": [
    "# how much longer is that?\n",
    "integration_time_including_readnoise / integration_time"
   ]
  },
  {
   "cell_type": "markdown",
   "metadata": {},
   "source": [
    "So, accounting for readnoise, to get to the same SNR, we need to integrate for about 50% longer."
   ]
  },
  {
   "cell_type": "markdown",
   "metadata": {},
   "source": [
    "Note that all of these calculations make a few assumptions that are generally not correct:\n",
    "\n",
    "1. We assumed the V-filter has a uniform transmission of 1 across its band.  In reality, the V-filter transmits closer to ~75% of the total band, so the total photon rate (in any given filter) is less than what we calculated above.\n",
    "\n",
    "2. We assumed that the CCD has perfect _quantum efficiency_.  The best CCDs have close to unity (one) efficiency, but not exactly.  Ours are probably in the 60-80% range.\n",
    "\n",
    "3. We assumed no flux losses to the atmoshpere (absorption or scattering) or the telescope optics.  We know from class that the atmosphere absorbs anywhere from 10-30% of the incident flux if we point straight up on a clear night.\n",
    "\n",
    "Together these effects amount to a substantial loss of light.  Let's estimate how much:"
   ]
  },
  {
   "cell_type": "code",
   "execution_count": 32,
   "metadata": {},
   "outputs": [
    {
     "data": {
      "text/plain": [
       "0.41999999999999993"
      ]
     },
     "execution_count": 32,
     "metadata": {},
     "output_type": "execute_result"
    }
   ],
   "source": [
    "filter_efficiency = 0.75\n",
    "quantum_efficiency = 0.7\n",
    "atmosphere_loss = 0.2\n",
    "received_fraction = filter_efficiency * quantum_efficiency * (1-atmosphere_loss)\n",
    "received_fraction"
   ]
  },
  {
   "cell_type": "markdown",
   "metadata": {},
   "source": [
    "We're getting less than 50% of the light recorded on our CCD.  That means we're liable to underestimate the brightness of our targets by a lot!  Next time, we'll go over how we account for that loss by _calibrating_."
   ]
  },
  {
   "cell_type": "markdown",
   "metadata": {},
   "source": [
    "## Do it yourself for a more reasonable target.\n",
    "\n",
    "We noted above that P Cygni is really hard to observe, since it will saturate our detector.\n",
    "\n",
    "Now, let's repeat the above exercises for a different target: `TYC 2788-108-1`"
   ]
  },
  {
   "cell_type": "markdown",
   "metadata": {},
   "source": [
    "Answer the following questions (using the code you learned above):"
   ]
  },
  {
   "cell_type": "markdown",
   "metadata": {},
   "source": [
    "1.  How bright is TYC 2788-108-1 in the [Johnson V-band](http://voservices.net/filter/filterdtls.aspx?filterid=60)?  Give your answer in magnitudes and in Janskys, assuming the zero-magnitude flux is 3500 Jy"
   ]
  },
  {
   "cell_type": "code",
   "execution_count": 45,
   "metadata": {},
   "outputs": [
    {
     "data": {
      "text/html": [
       "<div><i>Table length=1</i>\n",
       "<table id=\"table1949643678816\" class=\"table-striped table-bordered table-condensed\">\n",
       "<thead><tr><th>MAIN_ID</th><th>RA</th><th>DEC</th><th>RA_PREC</th><th>DEC_PREC</th><th>COO_ERR_MAJA</th><th>COO_ERR_MINA</th><th>COO_ERR_ANGLE</th><th>COO_QUAL</th><th>COO_WAVELENGTH</th><th>COO_BIBCODE</th><th>FLUX_R</th><th>FLUX_V</th><th>SCRIPT_NUMBER_ID</th></tr></thead>\n",
       "<thead><tr><th></th><th>&quot;h:m:s&quot;</th><th>&quot;d:m:s&quot;</th><th></th><th></th><th>mas</th><th>mas</th><th>deg</th><th></th><th></th><th></th><th>mag</th><th>mag</th><th></th></tr></thead>\n",
       "<thead><tr><th>object</th><th>str13</th><th>str13</th><th>int16</th><th>int16</th><th>float32</th><th>float32</th><th>int16</th><th>str1</th><th>str1</th><th>object</th><th>float32</th><th>float32</th><th>int32</th></tr></thead>\n",
       "<tr><td>TYC 2788-108-1</td><td>00 39 48.0058</td><td>+40 54 40.676</td><td>14</td><td>14</td><td>0.035</td><td>0.048</td><td>90</td><td>A</td><td>O</td><td>2018yCat.1345....0G</td><td>--</td><td>10.65</td><td>1</td></tr>\n",
       "</table></div>"
      ],
      "text/plain": [
       "<Table length=1>\n",
       "   MAIN_ID           RA           DEC      ...  FLUX_R  FLUX_V SCRIPT_NUMBER_ID\n",
       "                  \"h:m:s\"       \"d:m:s\"    ...   mag     mag                   \n",
       "    object         str13         str13     ... float32 float32      int32      \n",
       "-------------- ------------- ------------- ... ------- ------- ----------------\n",
       "TYC 2788-108-1 00 39 48.0058 +40 54 40.676 ...      --   10.65                1"
      ]
     },
     "execution_count": 45,
     "metadata": {},
     "output_type": "execute_result"
    }
   ],
   "source": [
    "TYC = Simbad.query_object('TYC 2788-108-1')\n",
    "TYC"
   ]
  },
  {
   "cell_type": "code",
   "execution_count": 47,
   "metadata": {},
   "outputs": [
    {
     "data": {
      "text/html": [
       "<div><i>Table length=1</i>\n",
       "<table id=\"table1949643681600\" class=\"table-striped table-bordered table-condensed\">\n",
       "<thead><tr><th>MAIN_ID</th><th>RA</th><th>DEC</th><th>RA_PREC</th><th>DEC_PREC</th><th>COO_ERR_MAJA</th><th>COO_ERR_MINA</th><th>COO_ERR_ANGLE</th><th>COO_QUAL</th><th>COO_WAVELENGTH</th><th>COO_BIBCODE</th><th>FLUX_R</th><th>FLUX_V</th><th>SCRIPT_NUMBER_ID</th></tr></thead>\n",
       "<thead><tr><th></th><th>&quot;h:m:s&quot;</th><th>&quot;d:m:s&quot;</th><th></th><th></th><th>mas</th><th>mas</th><th>deg</th><th></th><th></th><th></th><th>mag</th><th>mag</th><th></th></tr></thead>\n",
       "<thead><tr><th>object</th><th>str13</th><th>str13</th><th>int16</th><th>int16</th><th>float32</th><th>float32</th><th>int16</th><th>str1</th><th>str1</th><th>object</th><th>float32</th><th>float32</th><th>int32</th></tr></thead>\n",
       "<tr><td>TYC 2788-108-1</td><td>00 39 48.0058</td><td>+40 54 40.676</td><td>14</td><td>14</td><td>0.035</td><td>0.048</td><td>90</td><td>A</td><td>O</td><td>2018yCat.1345....0G</td><td>--</td><td>10.65</td><td>1</td></tr>\n",
       "</table></div>"
      ],
      "text/plain": [
       "<Table length=1>\n",
       "   MAIN_ID           RA           DEC      ...  FLUX_R  FLUX_V SCRIPT_NUMBER_ID\n",
       "                  \"h:m:s\"       \"d:m:s\"    ...   mag     mag                   \n",
       "    object         str13         str13     ... float32 float32      int32      \n",
       "-------------- ------------- ------------- ... ------- ------- ----------------\n",
       "TYC 2788-108-1 00 39 48.0058 +40 54 40.676 ...      --   10.65                1"
      ]
     },
     "execution_count": 47,
     "metadata": {},
     "output_type": "execute_result"
    }
   ],
   "source": [
    "Simbad.reset_votable_fields()\n",
    "Simbad.add_votable_fields('flux(R)', 'flux(V)')\n",
    "TYC = Simbad.query_object('TYC 2788-108-1')\n",
    "TYC"
   ]
  },
  {
   "cell_type": "code",
   "execution_count": 98,
   "metadata": {},
   "outputs": [
    {
     "data": {
      "text/latex": [
       "$0.19233931 \\; \\mathrm{Jy}$"
      ],
      "text/plain": [
       "<Quantity 0.19233931 Jy>"
      ]
     },
     "execution_count": 98,
     "metadata": {},
     "output_type": "execute_result"
    }
   ],
   "source": [
    "F_TYC = 10**(-10.65/2.5) * 3500*u.Jy\n",
    "F_TYC"
   ]
  },
  {
   "cell_type": "code",
   "execution_count": 99,
   "metadata": {},
   "outputs": [
    {
     "data": {
      "text/latex": [
       "$1.9233931 \\times 10^{-24} \\; \\mathrm{\\frac{erg}{Hz\\,s\\,cm^{2}}}$"
      ],
      "text/plain": [
       "<Quantity 1.92339306e-24 erg / (cm2 Hz s)>"
      ]
     },
     "execution_count": 99,
     "metadata": {},
     "output_type": "execute_result"
    }
   ],
   "source": [
    "F_TYC.to(u.erg/u.s/u.cm**2/u.Hz)"
   ]
  },
  {
   "cell_type": "markdown",
   "metadata": {},
   "source": [
    "2. Using the same telescope as above, what is our expected received flux in ergs/second and in photons per second?  Assume the V-filter band width is 870 Angstroms and the band center is 5504 Angstroms."
   ]
  },
  {
   "cell_type": "code",
   "execution_count": 127,
   "metadata": {},
   "outputs": [
    {
     "name": "stdout",
     "output_type": "stream",
     "text": [
      "1.6446160921481125e-07 erg / s\n",
      "45568.65689848281 Hz\n"
     ]
    }
   ],
   "source": [
    "## v filter band width 870 angstroms\n",
    "## band canter 5504 angstroms\n",
    "F_TYC = F_TYC.to(u.erg/u.s/u.cm**2/u.Hz)\n",
    "\n",
    "lamT = 5504*u.angstrom\n",
    "nuT = constants.c / lamT.decompose()\n",
    "nuT.to(u.Hz)\n",
    "\n",
    "dnuT = nuT*((870)/(5504))\n",
    "#dnuT = dnuT.to(u.Hz)\n",
    "\n",
    "E_recT = (F_TYC)*A_CTO*(dnuT)\n",
    "print(E_recT.to(u.erg/u.s))\n",
    "\n",
    "E_photT = constants.h*(nuT)\n",
    "\n",
    "Tphot_per_s = E_recT/E_photT\n",
    "print(Tphot_per_s.to(u.Hz))"
   ]
  },
  {
   "cell_type": "code",
   "execution_count": 126,
   "metadata": {},
   "outputs": [
    {
     "name": "stdout",
     "output_type": "stream",
     "text": [
      "544681064680232.5 Hz\n",
      "86096025848801.28 Hz\n",
      "1.6446160921481125e-07 erg / s\n",
      "45568.65689848281 Hz\n"
     ]
    }
   ],
   "source": [
    "#dnuT = (constants.c / (5504*u.angstrom).to(u.m)).to(u.Hz)\n",
    "#print(nuT)\n",
    "#\n",
    "#dnuT = nuT*((870*u.angstrom)/(5504*u.angstrom))\n",
    "#print(dnuT)\n",
    "#\n",
    "#E_recT = ((F_TYC)*A_CTO*(dnuT)).to(u.erg/u.s)\n",
    "#print(E_recT)\n",
    "#\n",
    "#E_photT = constants.h*(nuT)\n",
    "#\n",
    "#Tphot_per_s = E_recT/E_photT\n",
    "#print(Tphot_per_s.to(u.Hz))"
   ]
  },
  {
   "cell_type": "code",
   "execution_count": 115,
   "metadata": {},
   "outputs": [
    {
     "data": {
      "text/plain": [
       "(<Quantity 2.25261988 eV>, <Quantity 3.60909494e-12 erg>)"
      ]
     },
     "execution_count": 115,
     "metadata": {},
     "output_type": "execute_result"
    }
   ],
   "source": [
    "E_photT.to(u.eV), E_photT.to(u.erg)"
   ]
  },
  {
   "cell_type": "code",
   "execution_count": 132,
   "metadata": {},
   "outputs": [
    {
     "data": {
      "text/latex": [
       "$45568.657 \\; \\mathrm{\\frac{1}{s}}$"
      ],
      "text/plain": [
       "<Quantity 45568.65689848 1 / s>"
      ]
     },
     "execution_count": 132,
     "metadata": {},
     "output_type": "execute_result"
    }
   ],
   "source": [
    "Tphot_per_s = (E_recT / E_photT).to(1/u.s)\n",
    "Tphot_per_s"
   ]
  },
  {
   "cell_type": "markdown",
   "metadata": {},
   "source": [
    "3. How many photons per second per pixel will the star produce if the point spread function, the area over which the star's light is spread, is the same as above ($\\sigma_{Gaussian} = 2\"$)?  How long can we integrate without saturating (assuming we saturate at 30,000 counts)?"
   ]
  },
  {
   "cell_type": "code",
   "execution_count": 137,
   "metadata": {},
   "outputs": [
    {
     "name": "stdout",
     "output_type": "stream",
     "text": [
      "4544.815974477803 1 / (pix s)\n",
      "3.322308224156612 pix s\n",
      "2.2003091117785014 pix s\n"
     ]
    }
   ],
   "source": [
    "#npixT = 45568.65689848281 / 30000\n",
    "#print(npixT)\n",
    "#\n",
    "Tspread = Tphot_per_s / np.sqrt(psf_area_pixels)\n",
    "print(Tspread)\n",
    "\n",
    "integration_time_including_readnoiseT = target_signal / Tspread\n",
    "print(integration_time_including_readnoiseT)\n",
    "\n",
    "integration_time1T = (100**2)/(Tspread)\n",
    "print(integration_time1T)"
   ]
  },
  {
   "cell_type": "markdown",
   "metadata": {},
   "source": [
    "4. Again following the same assumptions (the same spread among pixels, same readnoise), how long do we need to integrate to get to a signal-to-noise ratio of 100?  Account for both photon statistics and readnoise"
   ]
  },
  {
   "cell_type": "code",
   "execution_count": 143,
   "metadata": {},
   "outputs": [
    {
     "name": "stdout",
     "output_type": "stream",
     "text": [
      "219.4490836602416 ms\n",
      "100.0 adu\n",
      "141.6089562544945 adu\n",
      "141.6089562544945 adu\n",
      "0.3313523047853683 s\n"
     ]
    }
   ],
   "source": [
    "## same spread along pixels same readmoise\n",
    "## how long to integrate for SNR = 100\n",
    "\n",
    "integration_timeT = (100**2)/(Tphot_per_s)\n",
    "print(integration_timeT.to(u.ms))\n",
    "\n",
    "photon_noiseT = (Tphot_per_s*integration_timeT)**(1/2)*(u.adu)\n",
    "print(photon_noiseT)\n",
    "\n",
    "total_noiseT = (photon_noiseT**2 + (readnoise_sum)**(2))**(1/2)\n",
    "print(total_noiseT)\n",
    "\n",
    "signalT = (total_noiseT)**2\n",
    "snrT = signal / total_noiseT\n",
    "print(snrT)\n",
    "\n",
    "integration_time_including_readnoiseT = target_signal / Tphot_per_s\n",
    "print(integration_time_including_readnoiseT)\n"
   ]
  },
  {
   "cell_type": "code",
   "execution_count": null,
   "metadata": {},
   "outputs": [],
   "source": []
  }
 ],
 "metadata": {
  "kernelspec": {
   "display_name": "Python 3",
   "language": "python",
   "name": "python3"
  },
  "language_info": {
   "codemirror_mode": {
    "name": "ipython",
    "version": 3
   },
   "file_extension": ".py",
   "mimetype": "text/x-python",
   "name": "python",
   "nbconvert_exporter": "python",
   "pygments_lexer": "ipython3",
   "version": "3.8.5"
  }
 },
 "nbformat": 4,
 "nbformat_minor": 2
}
